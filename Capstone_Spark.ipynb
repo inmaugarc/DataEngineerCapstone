{
 "cells": [
  {
   "cell_type": "markdown",
   "metadata": {},
   "source": [
    "# Project Title\n",
    "### Data Engineering Capstone Project\n",
    "\n",
    "#### Project Summary\n",
    "The objective of this project is to build an analytics database for detecting relation between temperature and air quality and electric vehicles sellings all over the world and specifically in Europe.\n",
    "\n",
    "This database will be helpful to find answers for questions such as:\n",
    "\n",
    "* How has weather and air quality in Europe changed over the years?\n",
    "\n",
    "* What are the countries with more electric vehicles? Has the air a better quality?\n",
    "\n",
    "\n",
    "The project follows the follow steps:\n",
    "* Step 1: Scope the Project and Gather Data\n",
    "* Step 2: Explore and Assess the Data\n",
    "* Step 3: Define the Data Model\n",
    "* Step 4: Run ETL to Model the Data\n",
    "* Step 5: Complete Project Write Up"
   ]
  },
  {
   "cell_type": "code",
   "execution_count": 2,
   "metadata": {},
   "outputs": [
    {
     "name": "stdout",
     "output_type": "stream",
     "text": [
      "Collecting pandasql\n",
      "  Downloading https://files.pythonhosted.org/packages/6b/c4/ee4096ffa2eeeca0c749b26f0371bd26aa5c8b611c43de99a4f86d3de0a7/pandasql-0.7.3.tar.gz\n",
      "Requirement already satisfied, skipping upgrade: numpy in /opt/conda/lib/python3.6/site-packages (from pandasql) (1.12.1)\n",
      "Requirement already satisfied, skipping upgrade: pandas in /opt/conda/lib/python3.6/site-packages (from pandasql) (0.23.3)\n",
      "Requirement already satisfied, skipping upgrade: sqlalchemy in /opt/conda/lib/python3.6/site-packages (from pandasql) (1.1.13)\n",
      "Requirement already satisfied, skipping upgrade: python-dateutil>=2.5.0 in /opt/conda/lib/python3.6/site-packages (from pandas->pandasql) (2.6.1)\n",
      "Requirement already satisfied, skipping upgrade: pytz>=2011k in /opt/conda/lib/python3.6/site-packages (from pandas->pandasql) (2017.3)\n",
      "Requirement already satisfied, skipping upgrade: six>=1.5 in /opt/conda/lib/python3.6/site-packages (from python-dateutil>=2.5.0->pandas->pandasql) (1.11.0)\n",
      "Building wheels for collected packages: pandasql\n",
      "  Running setup.py bdist_wheel for pandasql ... \u001b[?25ldone\n",
      "\u001b[?25h  Stored in directory: /root/.cache/pip/wheels/53/6c/18/b87a2e5fa8a82e9c026311de56210b8d1c01846e18a9607fc9\n",
      "Successfully built pandasql\n",
      "Installing collected packages: pandasql\n",
      "Successfully installed pandasql-0.7.3\n"
     ]
    }
   ],
   "source": [
    "! pip install -U pandasql"
   ]
  },
  {
   "cell_type": "code",
   "execution_count": 3,
   "metadata": {},
   "outputs": [
    {
     "name": "stdout",
     "output_type": "stream",
     "text": [
      "Collecting plotly\n",
      "\u001b[?25l  Downloading https://files.pythonhosted.org/packages/a8/07/72953cf70e3bd3a24cbc3e743e6f8539abe6e3e6d83c3c0c83426eaffd39/plotly-5.18.0-py3-none-any.whl (15.6MB)\n",
      "\u001b[K    100% |████████████████████████████████| 15.6MB 3.2MB/s eta 0:00:01\n",
      "\u001b[?25hRequirement already satisfied, skipping upgrade: packaging in /opt/conda/lib/python3.6/site-packages (from plotly) (16.8)\n",
      "Collecting tenacity>=6.2.0 (from plotly)\n",
      "  Downloading https://files.pythonhosted.org/packages/e7/b0/c23bd61e1b32c9b96fbca996c87784e196a812da8d621d8d04851f6c8181/tenacity-8.2.2-py3-none-any.whl\n",
      "Requirement already satisfied, skipping upgrade: pyparsing in /opt/conda/lib/python3.6/site-packages (from packaging->plotly) (2.2.0)\n",
      "Requirement already satisfied, skipping upgrade: six in /opt/conda/lib/python3.6/site-packages (from packaging->plotly) (1.11.0)\n",
      "Installing collected packages: tenacity, plotly\n",
      "  Found existing installation: plotly 2.0.15\n",
      "    Uninstalling plotly-2.0.15:\n",
      "      Successfully uninstalled plotly-2.0.15\n",
      "Successfully installed plotly-5.18.0 tenacity-8.2.2\n"
     ]
    }
   ],
   "source": [
    "! pip install -U  plotly"
   ]
  },
  {
   "cell_type": "code",
   "execution_count": 4,
   "metadata": {},
   "outputs": [
    {
     "name": "stdout",
     "output_type": "stream",
     "text": [
      "Collecting missingno\n",
      "  Downloading https://files.pythonhosted.org/packages/87/22/cd5cf999af21c2f97486622c551ac3d07361ced8125121e907f588ff5f24/missingno-0.5.2-py3-none-any.whl\n",
      "Requirement already satisfied, skipping upgrade: numpy in /opt/conda/lib/python3.6/site-packages (from missingno) (1.12.1)\n",
      "Requirement already satisfied, skipping upgrade: matplotlib in /opt/conda/lib/python3.6/site-packages (from missingno) (2.1.0)\n",
      "Requirement already satisfied, skipping upgrade: scipy in /opt/conda/lib/python3.6/site-packages (from missingno) (1.2.1)\n",
      "Requirement already satisfied, skipping upgrade: seaborn in /opt/conda/lib/python3.6/site-packages (from missingno) (0.8.1)\n",
      "Requirement already satisfied, skipping upgrade: six>=1.10 in /opt/conda/lib/python3.6/site-packages (from matplotlib->missingno) (1.11.0)\n",
      "Requirement already satisfied, skipping upgrade: python-dateutil>=2.0 in /opt/conda/lib/python3.6/site-packages (from matplotlib->missingno) (2.6.1)\n",
      "Requirement already satisfied, skipping upgrade: pytz in /opt/conda/lib/python3.6/site-packages (from matplotlib->missingno) (2017.3)\n",
      "Requirement already satisfied, skipping upgrade: cycler>=0.10 in /opt/conda/lib/python3.6/site-packages/cycler-0.10.0-py3.6.egg (from matplotlib->missingno) (0.10.0)\n",
      "Requirement already satisfied, skipping upgrade: pyparsing!=2.0.4,!=2.1.2,!=2.1.6,>=2.0.1 in /opt/conda/lib/python3.6/site-packages (from matplotlib->missingno) (2.2.0)\n",
      "Requirement already satisfied, skipping upgrade: pandas in /opt/conda/lib/python3.6/site-packages (from seaborn->missingno) (0.23.3)\n",
      "Installing collected packages: missingno\n",
      "Successfully installed missingno-0.5.2\n"
     ]
    }
   ],
   "source": [
    "! pip install -U  missingno"
   ]
  },
  {
   "cell_type": "code",
   "execution_count": 5,
   "metadata": {},
   "outputs": [],
   "source": [
    "# Do all imports and installs here\n",
    "import os\n",
    "import configparser\n",
    "import pandas as pd\n",
    "import numpy as np\n",
    "from datetime import datetime \n",
    "import missingno as msno\n",
    "from pandas.io.json import json_normalize #package for flattening json in pandas df\n",
    "from pandasql import sqldf\n",
    "\n",
    "from pyspark.sql import SparkSession, SQLContext, GroupedData, HiveContext\n",
    "import pyspark.sql.functions as funcs\n",
    "from pyspark.sql.functions import isnan, when, count, col, sum, udf, dayofmonth, dayofweek, month, year, weekofyear, avg, monotonically_increasing_id\n",
    "from pyspark.sql.functions import year, month, dayofweek, dayofmonth, weekofyear, date_format\n",
    "from pyspark.sql.functions import *\n",
    "from pyspark.sql.functions import date_add as d_add\n",
    "from pyspark.sql.functions import lit\n",
    "from pyspark.sql.types import *\n",
    "from pyspark.sql.types import DoubleType, StringType, IntegerType, FloatType\n",
    "from pyspark.sql import functions as F\n",
    "from pyspark.sql import Row\n",
    "from pyspark.sql import functions as F\n",
    "from pyspark.sql import types as T\n",
    "from pyspark.sql import Window as W\n",
    "\n",
    "import json \n",
    "import seaborn as sns\n",
    "import matplotlib.pyplot as plt\n",
    "import plotly.express as px\n",
    "\n",
    "import utils as utils\n",
    "\n",
    "pd.set_option('display.width',170, 'display.max_rows',200, 'display.max_columns',900)"
   ]
  },
  {
   "cell_type": "code",
   "execution_count": 6,
   "metadata": {},
   "outputs": [],
   "source": [
    "config = configparser.ConfigParser()\n",
    "config.read('config.cfg')\n",
    "\n",
    "os.environ[\"JAVA_HOME\"] = \"/usr/lib/jvm/java-8-openjdk-amd64\"\n",
    "os.environ[\"PATH\"] = \"/opt/conda/bin:/opt/spark-2.4.3-bin-hadoop2.7/bin:/opt/conda/bin:/usr/local/sbin:/usr/local/bin:/usr/sbin:/usr/bin:/sbin:/bin:/usr/lib/jvm/java-8-openjdk-amd64/bin\"\n",
    "os.environ[\"SPARK_HOME\"] = \"/opt/spark-2.4.3-bin-hadoop2.7\"\n",
    "os.environ[\"HADOOP_HOME\"] = \"/opt/spark-2.4.3-bin-hadoop2.7\"\n",
    "os.environ['AWS_ACCESS_KEY_ID']=config['AWS']['AWS_ACCESS_KEY_ID']\n",
    "os.environ['AWS_SECRET_ACCESS_KEY']=config['AWS']['AWS_SECRET_ACCESS_KEY']"
   ]
  },
  {
   "cell_type": "markdown",
   "metadata": {},
   "source": [
    "### Create a spark session"
   ]
  },
  {
   "cell_type": "code",
   "execution_count": 7,
   "metadata": {},
   "outputs": [],
   "source": [
    "MAX_MEMORY = '30G'\n",
    "\n",
    "spark = SparkSession.builder\\\n",
    "        .config(\"spark.jars.repositories\", \"https://repos.spark-packages.org/\")\\\n",
    "        .config(\"spark.jars.packages\", \"org.apache.hadoop:hadoop-aws:2.7.0,saurfang:spark-sas7bdat:2.0.0-s_2.11\")\\\n",
    "        .enableHiveSupport().getOrCreate()"
   ]
  },
  {
   "cell_type": "markdown",
   "metadata": {},
   "source": [
    "### Step 1: Scope the Project and Gather Data\n",
    "\n",
    "#### Scope \n",
    "Explain what you plan to do in the project in more detail. What data do you use? What is your end solution look like? What tools did you use? etc>\n",
    "The objective of this project is to build an analytics database for detecting a relation between temperature, air quality and electric vehicles sellings all over the world and specifically in Europe.\n",
    "\n",
    "This database will be helpful to find answers for questions such as:\n",
    "\n",
    "- How has weather and air quality in Europe changed over the years?\n",
    "- What are the countries with more electric vehicles? \n",
    "- Has the air a better quality in the countries with more electric vehicles?\n",
    "- Is there a relation between the longevity and the number of electric vehicles in a country?\n",
    "\n",
    "#### Describe and Gather Data \n",
    "Describe the data sets you're using. Where did it come from? What type of information is included? \n",
    "This project pulls data from several sources and create a star schema with some facts and dimensional tables.\n",
    "The datasets used for this project are:\n",
    "- GlobalLandTemperatures from Udacity \n",
    "- Air Quality from Opendatasoft\n",
    "- Electric Vehicles Sellings from IEA \n",
    "- World Population Data from https://www.worlddata.info/"
   ]
  },
  {
   "cell_type": "markdown",
   "metadata": {},
   "source": [
    "This Capstone project will have the following steps:\n",
    "1. Use Spark to load the datasets into dataframes\n",
    "2. An Exploratory data analysis EDA to explore all the dataset details\n",
    "3. Perform some cleaning on all the datasets\n",
    "4. Prepare the dimensional and facts tables\n",
    "\n",
    "The technology used is AWS S3 buckets where the source data resides, then the data will be staged and processed with Spark.\n"
   ]
  },
  {
   "cell_type": "markdown",
   "metadata": {},
   "source": [
    "## Temperature Data"
   ]
  },
  {
   "cell_type": "markdown",
   "metadata": {},
   "source": [
    "### Let's load the Global Land Temperatures by city dataset\n"
   ]
  },
  {
   "cell_type": "code",
   "execution_count": 8,
   "metadata": {},
   "outputs": [],
   "source": [
    "# Let's load the temperature data\n",
    "file_temp = '../../data2/GlobalLandTemperaturesByCity.csv'\n",
    "df_temp  = spark.read.csv(file_temp, inferSchema=True, header=True, sep=',')"
   ]
  },
  {
   "cell_type": "markdown",
   "metadata": {},
   "source": [
    "#### And view the dataset in its raw format"
   ]
  },
  {
   "cell_type": "code",
   "execution_count": null,
   "metadata": {},
   "outputs": [],
   "source": [
    "df_temp.show()"
   ]
  },
  {
   "cell_type": "code",
   "execution_count": null,
   "metadata": {},
   "outputs": [],
   "source": [
    "# I prefer this view with Pandas\n",
    "df_temp.limit(5).toPandas()"
   ]
  },
  {
   "cell_type": "markdown",
   "metadata": {},
   "source": [
    "#### Now we are going to print the schema of the temperature raw dataset"
   ]
  },
  {
   "cell_type": "code",
   "execution_count": null,
   "metadata": {},
   "outputs": [],
   "source": [
    "df_temp.printSchema()"
   ]
  },
  {
   "cell_type": "markdown",
   "metadata": {},
   "source": [
    "## AIR QUALITY DATASET "
   ]
  },
  {
   "cell_type": "markdown",
   "metadata": {},
   "source": [
    "### Let's load the Dataset Air Quality by city dataset"
   ]
  },
  {
   "cell_type": "markdown",
   "metadata": {},
   "source": [
    "#### I am going to use a dataset of air quality, so first let's analyse it"
   ]
  },
  {
   "cell_type": "code",
   "execution_count": 9,
   "metadata": {},
   "outputs": [],
   "source": [
    "# Let's read the file\n",
    "df_aq = pd.read_json(\"openaq.json\")"
   ]
  },
  {
   "cell_type": "code",
   "execution_count": null,
   "metadata": {},
   "outputs": [],
   "source": [
    "# Let's have some basic description of the dataset\n",
    "df_aq.info()"
   ]
  },
  {
   "cell_type": "code",
   "execution_count": null,
   "metadata": {},
   "outputs": [],
   "source": [
    "# Let's have an overview of this dataset\n",
    "df_aq.describe()"
   ]
  },
  {
   "cell_type": "code",
   "execution_count": null,
   "metadata": {},
   "outputs": [],
   "source": [
    "# Let's see an example of the data\n",
    "df_aq.head()"
   ]
  },
  {
   "cell_type": "markdown",
   "metadata": {},
   "source": [
    "## ELECTRIC VEHICLE SELLINGS"
   ]
  },
  {
   "cell_type": "markdown",
   "metadata": {},
   "source": [
    "## Let's load this dataset"
   ]
  },
  {
   "cell_type": "code",
   "execution_count": 10,
   "metadata": {},
   "outputs": [],
   "source": [
    "# Load the csv file\n",
    "df_el = pd.read_csv(\"./IEA-EV-data.csv\")"
   ]
  },
  {
   "cell_type": "code",
   "execution_count": null,
   "metadata": {},
   "outputs": [],
   "source": [
    "# Let's get the basic info of this dataset\n",
    "df_el.info()"
   ]
  },
  {
   "cell_type": "code",
   "execution_count": null,
   "metadata": {},
   "outputs": [],
   "source": [
    "# Let's see the first lines of the dataset\n",
    "df_el.head()"
   ]
  },
  {
   "cell_type": "code",
   "execution_count": null,
   "metadata": {},
   "outputs": [],
   "source": [
    "df_el.info()"
   ]
  },
  {
   "cell_type": "markdown",
   "metadata": {},
   "source": [
    "## Let's load the World Population dataset"
   ]
  },
  {
   "cell_type": "code",
   "execution_count": 11,
   "metadata": {},
   "outputs": [],
   "source": [
    "df_population = pd.read_csv(\"./world_population.csv\")"
   ]
  },
  {
   "cell_type": "code",
   "execution_count": null,
   "metadata": {},
   "outputs": [],
   "source": [
    "df_population.head()"
   ]
  },
  {
   "cell_type": "code",
   "execution_count": null,
   "metadata": {},
   "outputs": [],
   "source": [
    "# Let's have an overview of this dataset\n",
    "df_population.info()"
   ]
  },
  {
   "cell_type": "code",
   "execution_count": null,
   "metadata": {},
   "outputs": [],
   "source": [
    "# Let's see a summary of this dataset\n",
    "df_population.describe()"
   ]
  },
  {
   "cell_type": "raw",
   "metadata": {},
   "source": [
    "Data dictionary of the World Population Dataset\n",
    "# We have a dataset with 234 rows and 17 columns (variables) and no nulls \n",
    "# Rank: Rank by population\n",
    "# CCA3: 3 digit Country/Territories code\n",
    "# Country: Name of the Country/Territories\n",
    "# Capital: Name of the Capital\n",
    "# Continent: Name of the Continent\n",
    "# 2022 Population: Population of the Country/Territories in the year 2022\n",
    "# 2020 Population: Population of the Country/Territories in the year 2020\n",
    "# 2015 Population: Population of the Country/Territories in the year 2015\n",
    "# 2010 Population: Population of the Country/Territories in the year 2010\n",
    "# 2000 Population: Population of the Country/Territories in the year 2000\n",
    "# 1990 Population: Population of the Country/Territories in the year 1990\n",
    "# 1980 Population: Population of the Country/Territories in the year 1980\n",
    "# 1970 Population: Population of the Country/Territories in the year 1970\n",
    "# Area (km²): Area size of the Country/Territories in square kilometer\n",
    "# Density (per km²): Population density per square kilometer\n",
    "# Growth Rate: Population growth rate by Country/Territories\n",
    "# World Population Percentage: The population percentage by each Country/Territories"
   ]
  },
  {
   "cell_type": "markdown",
   "metadata": {},
   "source": [
    "### Step 2: Explore and Assess the Data\n",
    "#### Explore the Data \n",
    "Identify data quality issues, like missing values, duplicate data, etc.\n",
    "\n",
    "#### Cleaning Steps\n",
    "Document steps necessary to clean the data"
   ]
  },
  {
   "cell_type": "code",
   "execution_count": null,
   "metadata": {},
   "outputs": [],
   "source": [
    "# Performing cleaning tasks here"
   ]
  },
  {
   "cell_type": "markdown",
   "metadata": {},
   "source": [
    "### Cleaning the Global World Temperature Dataset "
   ]
  },
  {
   "cell_type": "code",
   "execution_count": null,
   "metadata": {},
   "outputs": [],
   "source": [
    "# Now we are going to check the null values on the Temperature dataset\n",
    "df_temp.select(*(sum(col(c).isNull().cast(\"int\")).alias(c) for c in df_temp.columns)).show()"
   ]
  },
  {
   "cell_type": "code",
   "execution_count": 12,
   "metadata": {},
   "outputs": [],
   "source": [
    "# As we have several null values in AverageTemperature and AverageTemperatureUncertaninty columns \n",
    "# we are going to remove those rows\n",
    "# We could impute with a media/median value, but we don't need such a level of detail for the purpose of this project\n",
    "df_clean_temp = df_temp.na.drop(how=\"any\")"
   ]
  },
  {
   "cell_type": "code",
   "execution_count": null,
   "metadata": {},
   "outputs": [],
   "source": [
    "# And check the first 5 lines of the dataset without null values...\n",
    "df_clean_temp.limit(5).toPandas()"
   ]
  },
  {
   "cell_type": "code",
   "execution_count": null,
   "metadata": {},
   "outputs": [],
   "source": [
    "# Let's check the number of rows after dropping nulls (yet more than 8 million rows)\n",
    "df_clean_temp.count()"
   ]
  },
  {
   "cell_type": "markdown",
   "metadata": {},
   "source": [
    "### Cleaning the Air Quality Dataset "
   ]
  },
  {
   "cell_type": "code",
   "execution_count": null,
   "metadata": {},
   "outputs": [],
   "source": [
    "df_aq.count()"
   ]
  },
  {
   "cell_type": "code",
   "execution_count": null,
   "metadata": {},
   "outputs": [],
   "source": [
    "# Now we are going to ckeck null in the Air Quality datasets\n",
    "df_aq.isna().sum().sum()"
   ]
  },
  {
   "cell_type": "code",
   "execution_count": null,
   "metadata": {},
   "outputs": [],
   "source": [
    "# With this matrix, we can locate where the nulls are: city and country_name are the fields with more missing values\n",
    "msno.matrix(df_aq, figsize=(20,5), labels=True, fontsize=10)"
   ]
  },
  {
   "cell_type": "code",
   "execution_count": 13,
   "metadata": {},
   "outputs": [],
   "source": [
    "# We are going to fill some country field\n",
    "df_aq.loc[df_aq[\"country\"] == \"CN\", \"city\"] = \"Shanghai\"\n",
    "df_aq.loc[df_aq[\"country\"] == \"IN\", \"city\"] = \"Mumbai\"\n",
    "df_aq.loc[df_aq[\"country\"] == \"CO\", \"city\"] = \"Bogota\"\n",
    "df_aq.loc[df_aq[\"country\"] == \"FR\", \"city\"] = \"Paris\"\n",
    "df_aq.loc[df_aq[\"country\"] == \"MX\", \"city\"] = \"Mexico\"\n",
    "df_aq.loc[df_aq[\"country\"] == \"IL\", \"city\"] = \"Tel Aviv\"\n",
    "df_aq.loc[df_aq[\"country\"] == \"DE\", \"city\"] = \"Berlin\"\n",
    "df_aq.loc[df_aq[\"country\"] == \"IT\", \"city\"] = \"Rome\"\n",
    "df_aq.loc[df_aq[\"country\"] == \"ES\", \"city\"] = \"Madrid\"\n",
    "df_aq.loc[df_aq[\"country\"] == \"AT\", \"city\"] = \"Austria\"\n",
    "df_aq.loc[df_aq[\"country\"] == \"CZ\", \"city\"] = \"Prague\"\n",
    "df_aq.loc[df_aq[\"country\"] == \"EC\", \"city\"] = \"Quito\"\n",
    "df_aq.loc[df_aq[\"country\"] == \"AU\", \"city\"] = \"Sydney\"\n",
    "df_aq.loc[df_aq[\"country\"] == \"GB\", \"city\"] = \"London\"\n",
    "df_aq.loc[df_aq[\"country\"] == \"EE\", \"city\"] = \"Tallinn\"\n",
    "df_aq.loc[df_aq[\"country\"] == \"CA\", \"city\"] = \"Toronto\"\n",
    "df_aq.loc[df_aq[\"country\"] == \"HR\", \"city\"] = \"Zagreb\"\n",
    "df_aq.loc[df_aq[\"country\"] == \"MN\", \"city\"] = \"Ulaanbaatar\"\n",
    "df_aq.loc[df_aq[\"country\"] == \"NO\", \"city\"] = \"Oslo\"\n",
    "df_aq.loc[df_aq[\"country\"] == \"CL\", \"city\"] = \"Santiago\"\n",
    "df_aq.loc[df_aq[\"country\"] == \"BA\", \"city\"] = \"Sarajevo\"\n",
    "df_aq.loc[df_aq[\"country\"] == \"EE\", \"city\"] = \"Tallinn\"\n",
    "df_aq.loc[df_aq[\"country\"] == \"BE\", \"city\"] = \"Sofia\"\n",
    "df_aq.loc[df_aq[\"country\"] == \"BD\", \"city\"] = \"Daca\"\n",
    "df_aq.loc[df_aq[\"country\"] == \"NL\", \"city\"] = \"Amsterdam\"\n",
    "df_aq.loc[df_aq[\"country\"] == \"BR\", \"city\"] = \"Brasilia\"\n",
    "df_aq.loc[df_aq[\"country\"] == \"HU\", \"city\"] = \"Budapest\"\n",
    "df_aq.loc[df_aq[\"country\"] == \"FI\", \"city\"] = \"Helsinki\"\n",
    "df_aq.loc[df_aq[\"country\"] == \"ID\", \"city\"] = \"Yakarta\"\n",
    "df_aq.loc[df_aq[\"country\"] == \"IS\", \"city\"] = \"Reikiavik\"\n",
    "df_aq.loc[df_aq[\"country\"] == \"CH\", \"city\"] = \"Bern\"\n",
    "df_aq.loc[df_aq[\"country\"] == \"DK\", \"city\"] = \"Copenhagen\"\n",
    "df_aq.loc[df_aq[\"country\"] == \"JO\", \"city\"] = \"Amman\"\n",
    "df_aq.loc[df_aq[\"country\"] == \"LV\", \"city\"] = \"Riga\"\n",
    "df_aq.loc[df_aq[\"country\"] == \"MM\", \"city\"] = \"Naipyidó\"\n",
    "df_aq.loc[df_aq[\"country\"] == \"GR\", \"city\"] = \"Athen\"\n",
    "df_aq.loc[df_aq[\"country\"] == \"AQ\", \"city\"] = \"Bogota\"\n",
    "df_aq.loc[df_aq[\"country\"] == \"KE\", \"city\"] = \"Nairobi\"\n",
    "df_aq.loc[df_aq[\"country\"] == \"IE\", \"city\"] = \"Dublin\"\n",
    "df_aq.loc[df_aq[\"country\"] == \"LA\", \"city\"] = \"Vientiane\"\n",
    "df_aq.loc[df_aq[\"country\"] == \"GA\", \"city\"] = \"Libreville\"\n",
    "df_aq.loc[df_aq[\"country\"] == \"AR\", \"city\"] = \"Buenos Aires\"\n",
    "df_aq.loc[df_aq[\"country\"] == \"LU\", \"city\"] = \"Luxemburgo\"\n",
    "df_aq.loc[df_aq[\"country\"] == \"AF\", \"city\"] = \"Kabul\""
   ]
  },
  {
   "cell_type": "code",
   "execution_count": null,
   "metadata": {},
   "outputs": [],
   "source": [
    "# Check again the total number of nulls\n",
    "df_aq.isna().sum().sum()"
   ]
  },
  {
   "cell_type": "code",
   "execution_count": null,
   "metadata": {},
   "outputs": [],
   "source": [
    "# Check where the exact nulls are\n",
    "df_aq.isna().sum()"
   ]
  },
  {
   "cell_type": "code",
   "execution_count": 14,
   "metadata": {},
   "outputs": [],
   "source": [
    "# Let's fix some nulls with the city,country and country_name_en fields\n",
    "df_aq.loc[df_aq[\"measurements_sourcename\"] == \"Kosovo\", \"country_name_en\"] = \"XK\"\n",
    "df_aq.loc[df_aq[\"measurements_sourcename\"] == \"Kosovo\", \"country\"] = \"Kosovo\"\n",
    "\n",
    "df_aq.loc[df_aq[\"measurements_sourcename\"] == \"Bogota\", \"country\"] = \"Colombia\"\n",
    "df_aq.loc[df_aq[\"measurements_sourcename\"] == \"Bogota\", \"country_name_en\"] = \"CO\"\n",
    "\n",
    "df_aq.loc[df_aq[\"city\"] == \"Curacao\", \"country_name_en\"] = \"CW\"\n",
    "df_aq.loc[df_aq[\"city\"] == \"Curacao\", \"country\"] = \"Curacao\"\n",
    "\n",
    "df_aq.loc[df_aq[\"location\"] == \"Dushanbe\", \"country_name_en\"] = \"TJK\"\n",
    "df_aq.loc[df_aq[\"location\"] == \"Dushanbe\", \"city\"] = \"Dushanbe\"\n",
    "\n",
    "df_aq.loc[df_aq[\"location\"] == \"Baghdad\", \"country_name_en\"] = \"IE\"\n",
    "df_aq.loc[df_aq[\"location\"] == \"Baghdad\", \"city\"] = \"Baghdad\"\n",
    "\n",
    "df_aq.loc[df_aq[\"location\"] == \"Baku\", \"country_name_en\"] = \"AZN\"\n",
    "df_aq.loc[df_aq[\"location\"] == \"Baku\", \"city\"] = \"Baku\"\n",
    "\n",
    "df_aq.loc[df_aq[\"location\"] == \"Curacao\", \"country_name_en\"] = \"CUW\"\n",
    "df_aq.loc[df_aq[\"location\"] == \"Curacao\", \"city\"] = \"Curacao\"\n",
    "\n",
    "df_aq.loc[df_aq[\"location\"] == \"Hanoi\", \"country_name_en\"] = \"VN\"\n",
    "df_aq.loc[df_aq[\"location\"] == \"Hanoi\", \"city\"] = \"Hanoi\"\n",
    "\n",
    "df_aq.loc[df_aq[\"location\"] == \"Ashgabat\", \"country_name_en\"] = \"TKM\"\n",
    "df_aq.loc[df_aq[\"location\"] == \"Ashgabat\", \"city\"] = \"Ashgabat\"\n",
    "\n",
    "df_aq.loc[df_aq[\"location\"] == \"Sarajevo\", \"country_name_en\"] = \"BIH\"\n",
    "df_aq.loc[df_aq[\"location\"] == \"Sarajevo\", \"country\"] = \"Bosnia-Herzegovina\"\n",
    "df_aq.loc[df_aq[\"location\"] == \"Sarajevo\", \"city\"] = \"Sarajevo\"\n",
    "df_aq.loc[df_aq[\"location\"] == \"Banja Luk\", \"country\"] = \"Bosnia-Herzegovina\"\n",
    "df_aq.loc[df_aq[\"location\"] == \"Banja Luka\", \"country_name_en\"] = \"BIH\"\n",
    "df_aq.loc[df_aq[\"location\"] == \"Banja Luka\", \"city\"] = \"Banja Luka\"\n",
    "\n",
    "df_aq.loc[df_aq[\"location\"] == \"Pristina\", \"country_name_en\"] = \"XK\"\n",
    "df_aq.loc[df_aq[\"location\"] == \"Pristina\", \"city\"] = \"Pristina\"\n",
    "df_aq.loc[df_aq[\"location\"] == \"US Diplomatic Post: Pristina\", \"country_name_en\"] = \"XK\"\n",
    "df_aq.loc[df_aq[\"location\"] == \"US Diplomatic Post: Pristina\", \"city\"] = \"Pristina\"\n",
    "\n",
    "df_aq.loc[df_aq[\"location\"] == \"Trollhaugen\", \"country_name_en\"] = \"NO\"\n",
    "df_aq.loc[df_aq[\"location\"] == \"Trollhaugen\", \"city\"] = \"Trollhaugen\"\n",
    "df_aq.loc[df_aq[\"location\"] == \"Trollhaugen\", \"country\"] = \"Norway\"\n",
    "\n",
    "df_aq.loc[df_aq[\"location\"] == \"Kuwait City\", \"country_name_en\"] = \"KW\"\n",
    "df_aq.loc[df_aq[\"location\"] == \"Kuwait City\", \"city\"] = \"Kuwait\"\n",
    "df_aq.loc[df_aq[\"location\"] == \"Kuwait City\", \"country\"] = \"Kuwait\"\n",
    "\n",
    "df_aq.loc[df_aq[\"location\"] == \"Colombo\", \"country_name_en\"] = \"LK\"\n",
    "df_aq.loc[df_aq[\"location\"] == \"Colombo\", \"city\"] = \"Colombo\"\n",
    "df_aq.loc[df_aq[\"location\"] == \"Colombo\", \"country\"] = \"Sri Lanka\"\n",
    "\n",
    "df_aq.loc[df_aq[\"location\"] == \"Ho Chi Minh City\", \"country_name_en\"] = \"VN\"\n",
    "df_aq.loc[df_aq[\"location\"] == \"Ho Chi Minh City\", \"city\"] = \"TrollHo Chi Minh City\"\n",
    "df_aq.loc[df_aq[\"location\"] == \"Ho Chi Minh City\", \"country\"] = \"Vietnam\""
   ]
  },
  {
   "cell_type": "code",
   "execution_count": null,
   "metadata": {},
   "outputs": [],
   "source": [
    "# Check finally: the nulls values are on coordinates field, and that is a field that is not crucial\n",
    "df_aq.isna().sum()"
   ]
  },
  {
   "cell_type": "code",
   "execution_count": null,
   "metadata": {},
   "outputs": [],
   "source": [
    "df_aq[['city', 'country','country_name_en', 'measurements_lastupdated']].duplicated().count()"
   ]
  },
  {
   "cell_type": "markdown",
   "metadata": {},
   "source": [
    "### Cleaning the EV Sellings Dataset "
   ]
  },
  {
   "cell_type": "code",
   "execution_count": null,
   "metadata": {},
   "outputs": [],
   "source": [
    "df_el.info()"
   ]
  },
  {
   "cell_type": "code",
   "execution_count": null,
   "metadata": {},
   "outputs": [],
   "source": [
    "# Now we are going to ckeck null in the Electric Vehicle Sellings datasets --> There are no null values!!!\n",
    "df_el.isna().sum().sum()"
   ]
  },
  {
   "cell_type": "code",
   "execution_count": null,
   "metadata": {},
   "outputs": [],
   "source": [
    "msno.matrix(df_el, figsize=(20,5), labels=True, fontsize=10);"
   ]
  },
  {
   "cell_type": "code",
   "execution_count": null,
   "metadata": {},
   "outputs": [],
   "source": [
    "# Nothing to clear with this datset\n",
    "df_el.head()"
   ]
  },
  {
   "cell_type": "markdown",
   "metadata": {},
   "source": [
    "### Cleaning the Population Dataset "
   ]
  },
  {
   "cell_type": "code",
   "execution_count": null,
   "metadata": {
    "scrolled": true
   },
   "outputs": [],
   "source": [
    "# It seems there are no nulls in this dataset\n",
    "df_population.info()"
   ]
  },
  {
   "cell_type": "code",
   "execution_count": null,
   "metadata": {},
   "outputs": [],
   "source": [
    "# Now we are going to ckeck null in the Population dataset --> There are no null values!!!\n",
    "df_population.isna().sum().sum()"
   ]
  },
  {
   "cell_type": "markdown",
   "metadata": {},
   "source": [
    "### Step 3: Define the Data Model\n",
    "#### 3.1 Conceptual Data Model\n",
    "Map out the conceptual data model and explain why you chose that model:\n",
    "\n",
    "--> I have chosen a Star Schema data model"
   ]
  },
  {
   "attachments": {
    "capstone_db.png": {
     "image/png": "[encoded data removed]"
    }
   },
   "cell_type": "markdown",
   "metadata": {},
   "source": [
    "![capstone_db.png](attachment:capstone_db.png)"
   ]
  },
  {
   "cell_type": "markdown",
   "metadata": {},
   "source": [
    "#### 3.2 Mapping Out Data Pipelines\n",
    "List the steps necessary to pipeline the data into the chosen data model\n",
    "\n",
    "* 1. Loading the data into staging tables\n",
    "* 2. Creating dimension tables\n",
    "* 3. Creating facts tables\n",
    "* 4. Writing data into parquet files\n",
    "* 5. Perform some quality checks\n"
   ]
  },
  {
   "cell_type": "markdown",
   "metadata": {},
   "source": [
    "### Step 4: Run Pipelines to Model the Data \n",
    "#### 4.1 Create the data model\n",
    "Build the data pipelines to create the data model."
   ]
  },
  {
   "cell_type": "code",
   "execution_count": 15,
   "metadata": {},
   "outputs": [],
   "source": [
    "# Now we set the output path where the data will be stored\n",
    "output_folder = \"output/\""
   ]
  },
  {
   "cell_type": "markdown",
   "metadata": {},
   "source": [
    "### Let's start with the staging tables ..."
   ]
  },
  {
   "cell_type": "code",
   "execution_count": 16,
   "metadata": {},
   "outputs": [],
   "source": [
    "# get the data from the clean datasets\n",
    "staging_temperature = df_clean_temp\n",
    "staging_airquality = df_aq\n",
    "staging_electric_vehicles_sellings = df_el\n",
    "staging_world_population = df_population"
   ]
  },
  {
   "cell_type": "code",
   "execution_count": 17,
   "metadata": {},
   "outputs": [],
   "source": [
    "staging_temperature = staging_temperature.withColumnRenamed(\"AverageTemperature\",\"averageTemperature\") \\\n",
    "    .withColumnRenamed(\"AverageTemperatureUncertainty\",\"averageTemperatureUncertainty\") \\\n",
    "    .withColumnRenamed(\"City\",\"city\") \\\n",
    "    .withColumnRenamed(\"Country\",\"country\") \\\n",
    "    .withColumnRenamed(\"Latitude\",\"latitude\") \\\n",
    "    .withColumnRenamed(\"Longitude\",\"longitude\")"
   ]
  },
  {
   "cell_type": "code",
   "execution_count": null,
   "metadata": {},
   "outputs": [],
   "source": [
    "staging_temperature.printSchema()"
   ]
  },
  {
   "cell_type": "code",
   "execution_count": null,
   "metadata": {},
   "outputs": [],
   "source": [
    "utils.to_parquet(staging_temperature,output_folder,\"staging_temp_table\")"
   ]
  },
  {
   "cell_type": "code",
   "execution_count": 17,
   "metadata": {},
   "outputs": [
    {
     "data": {
      "text/plain": [
       "8235082"
      ]
     },
     "execution_count": 17,
     "metadata": {},
     "output_type": "execute_result"
    }
   ],
   "source": [
    "# length of this staging dataset \n",
    "len_tp = staging_temperature.count()\n",
    "len_tp"
   ]
  },
  {
   "cell_type": "code",
   "execution_count": 18,
   "metadata": {},
   "outputs": [],
   "source": [
    "staging_world_population.rename(columns={'Country/Territory':'country','Capital':'capital','Continent':'continent', 'Area (km²)':'area','Density (per km²)':'density','Growth Rate':'growthrate','World Population Percentage':'worldpercentage','2022 Population':'2022_Population','2020 Population':'2020_Population','2015 Population':'2015_Population','2010 Population':'2010_Population','2000 Population':'2000_Population','1990 Population':'1990_Population','1980 Population':'1980_Population','1970 Population':'1970_Population'}, inplace=True)"
   ]
  },
  {
   "cell_type": "code",
   "execution_count": null,
   "metadata": {},
   "outputs": [],
   "source": [
    "staging_world_population.head()"
   ]
  },
  {
   "cell_type": "code",
   "execution_count": 19,
   "metadata": {},
   "outputs": [],
   "source": [
    "staging_world_population_schema = StructType([StructField(\"Rank\", IntegerType(), True)\\\n",
    "                          ,StructField(\"CCA3\", StringType(), True)\\\n",
    "                          ,StructField(\"country\", StringType(), True)\\\n",
    "                          ,StructField(\"capital\", StringType(), True)\\\n",
    "                          ,StructField(\"continent\", StringType(), True)\\\n",
    "                          ,StructField(\"2022_Population\", IntegerType(), True)\\\n",
    "                          ,StructField(\"2020_Population\", IntegerType(), True)\\\n",
    "                          ,StructField(\"2015_Population\", IntegerType(), True)\\\n",
    "                          ,StructField(\"2010_Population\", IntegerType(), True)\\\n",
    "                          ,StructField(\"2000_Population\", IntegerType(), True)\\\n",
    "                          ,StructField(\"1990_Population\", IntegerType(), True)\\\n",
    "                          ,StructField(\"1980_Population\", IntegerType(), True)\\\n",
    "                          ,StructField(\"1970_Population\", IntegerType(), True)\\\n",
    "                          ,StructField(\"area\", IntegerType(), True)\\\n",
    "                          ,StructField(\"density\", FloatType(), True)\\\n",
    "                          ,StructField(\"growthrate\", FloatType(), True)\\\n",
    "                          ,StructField(\"worldpercentage\", FloatType(), True)])\n",
    "staging_world_population_spark = spark.createDataFrame(staging_world_population, staging_world_population_schema)"
   ]
  },
  {
   "cell_type": "code",
   "execution_count": 20,
   "metadata": {},
   "outputs": [],
   "source": [
    "len_w = staging_world_population_spark.count()"
   ]
  },
  {
   "cell_type": "code",
   "execution_count": null,
   "metadata": {},
   "outputs": [],
   "source": [
    "utils.to_parquet(staging_world_population_spark,output_folder,\"staging_world_population_table\")"
   ]
  },
  {
   "cell_type": "code",
   "execution_count": 21,
   "metadata": {},
   "outputs": [],
   "source": [
    "staging_airquality_schema= StructType([StructField(\"city\", StringType(), True)\\\n",
    "                          ,StructField(\"coordinates\", StringType(), True)\\\n",
    "                          ,StructField(\"country\", StringType(), True)\\\n",
    "                          ,StructField(\"country_name_en\", StringType(), True)\\\n",
    "                          ,StructField(\"location\", StringType(), True)\\\n",
    "                          ,StructField(\"measurements_lastupdated\", StringType(), True)\\\n",
    "                          ,StructField(\"measurements_parameter\", StringType(), True)\\\n",
    "                          ,StructField(\"measurements_sourcename\", StringType(), True)\\\n",
    "                          ,StructField(\"measurements_unit\", StringType(), True)\\\n",
    "                          ,StructField(\"measurements_value\", FloatType(), True)])\n",
    "staging_airquality_spark = spark.createDataFrame(staging_airquality, staging_airquality_schema)"
   ]
  },
  {
   "cell_type": "code",
   "execution_count": 22,
   "metadata": {},
   "outputs": [
    {
     "data": {
      "text/plain": [
       "43471"
      ]
     },
     "execution_count": 22,
     "metadata": {},
     "output_type": "execute_result"
    }
   ],
   "source": [
    "# length of this staging dataset:43471 rows\n",
    "len_saq = staging_airquality_spark.count()\n",
    "len_saq"
   ]
  },
  {
   "cell_type": "code",
   "execution_count": null,
   "metadata": {},
   "outputs": [],
   "source": [
    "utils.to_parquet(staging_airquality_spark,output_folder,\"staging_airquality_table\")"
   ]
  },
  {
   "cell_type": "code",
   "execution_count": null,
   "metadata": {},
   "outputs": [],
   "source": [
    "df_el.head()"
   ]
  },
  {
   "cell_type": "code",
   "execution_count": 23,
   "metadata": {},
   "outputs": [],
   "source": [
    "staging_ev_schema= StructType([StructField(\"region\", StringType(), True)\\\n",
    "                          ,StructField(\"category\", StringType(), True)\\\n",
    "                          ,StructField(\"parameter\", StringType(), True)\\\n",
    "                          ,StructField(\"mode\", StringType(), True)\\\n",
    "                          ,StructField(\"powertrain\", StringType(), True)\\\n",
    "                          ,StructField(\"year\", IntegerType(), True)\\\n",
    "                          ,StructField(\"unit\", StringType(), True)\\\n",
    "                          ,StructField(\"value\", FloatType(), True)])\n",
    "staging_ev_spark = spark.createDataFrame(df_el, staging_ev_schema)"
   ]
  },
  {
   "cell_type": "code",
   "execution_count": 24,
   "metadata": {},
   "outputs": [],
   "source": [
    "# length of this staging dataset 7434 rows\n",
    "len_ev = staging_ev_spark.count()"
   ]
  },
  {
   "cell_type": "code",
   "execution_count": null,
   "metadata": {},
   "outputs": [],
   "source": [
    "utils.to_parquet(staging_ev_spark,output_folder,\"staging_ev_table\")"
   ]
  },
  {
   "cell_type": "code",
   "execution_count": null,
   "metadata": {},
   "outputs": [],
   "source": []
  },
  {
   "cell_type": "markdown",
   "metadata": {},
   "source": [
    "### Let's prepare the dimensional tables ..."
   ]
  },
  {
   "cell_type": "markdown",
   "metadata": {},
   "source": [
    "#### DIM_COUNTRY"
   ]
  },
  {
   "cell_type": "code",
   "execution_count": 25,
   "metadata": {},
   "outputs": [],
   "source": [
    "# Let's start with dim_country\n",
    "dim_country = staging_world_population"
   ]
  },
  {
   "cell_type": "code",
   "execution_count": null,
   "metadata": {},
   "outputs": [],
   "source": [
    "staging_world_population.head()"
   ]
  },
  {
   "cell_type": "code",
   "execution_count": 26,
   "metadata": {},
   "outputs": [
    {
     "data": {
      "text/html": [
       "<div>\n",
       "<style scoped>\n",
       "    .dataframe tbody tr th:only-of-type {\n",
       "        vertical-align: middle;\n",
       "    }\n",
       "\n",
       "    .dataframe tbody tr th {\n",
       "        vertical-align: top;\n",
       "    }\n",
       "\n",
       "    .dataframe thead th {\n",
       "        text-align: right;\n",
       "    }\n",
       "</style>\n",
       "<table border=\"1\" class=\"dataframe\">\n",
       "  <thead>\n",
       "    <tr style=\"text-align: right;\">\n",
       "      <th></th>\n",
       "      <th>Rank</th>\n",
       "      <th>CCA3</th>\n",
       "      <th>country</th>\n",
       "      <th>capital</th>\n",
       "      <th>continent</th>\n",
       "      <th>2022_Population</th>\n",
       "      <th>2020_Population</th>\n",
       "      <th>2015_Population</th>\n",
       "      <th>2010_Population</th>\n",
       "      <th>2000_Population</th>\n",
       "      <th>1990_Population</th>\n",
       "      <th>1980_Population</th>\n",
       "      <th>1970_Population</th>\n",
       "      <th>area</th>\n",
       "      <th>density</th>\n",
       "      <th>growthRate</th>\n",
       "      <th>worldpercentag</th>\n",
       "    </tr>\n",
       "  </thead>\n",
       "  <tbody>\n",
       "    <tr>\n",
       "      <th>0</th>\n",
       "      <td>36</td>\n",
       "      <td>AFG</td>\n",
       "      <td>Afghanistan</td>\n",
       "      <td>Kabul</td>\n",
       "      <td>Asia</td>\n",
       "      <td>41128771</td>\n",
       "      <td>38972230</td>\n",
       "      <td>33753499</td>\n",
       "      <td>28189672</td>\n",
       "      <td>19542982</td>\n",
       "      <td>10694796</td>\n",
       "      <td>12486631</td>\n",
       "      <td>10752971</td>\n",
       "      <td>652230</td>\n",
       "      <td>63.058701</td>\n",
       "      <td>1.0257</td>\n",
       "      <td>0.52</td>\n",
       "    </tr>\n",
       "    <tr>\n",
       "      <th>1</th>\n",
       "      <td>138</td>\n",
       "      <td>ALB</td>\n",
       "      <td>Albania</td>\n",
       "      <td>Tirana</td>\n",
       "      <td>Europe</td>\n",
       "      <td>2842321</td>\n",
       "      <td>2866849</td>\n",
       "      <td>2882481</td>\n",
       "      <td>2913399</td>\n",
       "      <td>3182021</td>\n",
       "      <td>3295066</td>\n",
       "      <td>2941651</td>\n",
       "      <td>2324731</td>\n",
       "      <td>28748</td>\n",
       "      <td>98.870201</td>\n",
       "      <td>0.9957</td>\n",
       "      <td>0.04</td>\n",
       "    </tr>\n",
       "    <tr>\n",
       "      <th>2</th>\n",
       "      <td>34</td>\n",
       "      <td>DZA</td>\n",
       "      <td>Algeria</td>\n",
       "      <td>Algiers</td>\n",
       "      <td>Africa</td>\n",
       "      <td>44903225</td>\n",
       "      <td>43451666</td>\n",
       "      <td>39543154</td>\n",
       "      <td>35856344</td>\n",
       "      <td>30774621</td>\n",
       "      <td>25518074</td>\n",
       "      <td>18739378</td>\n",
       "      <td>13795915</td>\n",
       "      <td>2381741</td>\n",
       "      <td>18.853100</td>\n",
       "      <td>1.0164</td>\n",
       "      <td>0.56</td>\n",
       "    </tr>\n",
       "    <tr>\n",
       "      <th>3</th>\n",
       "      <td>213</td>\n",
       "      <td>ASM</td>\n",
       "      <td>American Samoa</td>\n",
       "      <td>Pago Pago</td>\n",
       "      <td>Oceania</td>\n",
       "      <td>44273</td>\n",
       "      <td>46189</td>\n",
       "      <td>51368</td>\n",
       "      <td>54849</td>\n",
       "      <td>58230</td>\n",
       "      <td>47818</td>\n",
       "      <td>32886</td>\n",
       "      <td>27075</td>\n",
       "      <td>199</td>\n",
       "      <td>222.477402</td>\n",
       "      <td>0.9831</td>\n",
       "      <td>0.00</td>\n",
       "    </tr>\n",
       "    <tr>\n",
       "      <th>4</th>\n",
       "      <td>203</td>\n",
       "      <td>AND</td>\n",
       "      <td>Andorra</td>\n",
       "      <td>Andorra la Vella</td>\n",
       "      <td>Europe</td>\n",
       "      <td>79824</td>\n",
       "      <td>77700</td>\n",
       "      <td>71746</td>\n",
       "      <td>71519</td>\n",
       "      <td>66097</td>\n",
       "      <td>53569</td>\n",
       "      <td>35611</td>\n",
       "      <td>19860</td>\n",
       "      <td>468</td>\n",
       "      <td>170.564102</td>\n",
       "      <td>1.0100</td>\n",
       "      <td>0.00</td>\n",
       "    </tr>\n",
       "  </tbody>\n",
       "</table>\n",
       "</div>"
      ],
      "text/plain": [
       "   Rank CCA3         country           capital continent  2022_Population  2020_Population  2015_Population  2010_Population  2000_Population  1990_Population  \\\n",
       "0    36  AFG     Afghanistan             Kabul      Asia         41128771         38972230         33753499         28189672         19542982         10694796   \n",
       "1   138  ALB         Albania            Tirana    Europe          2842321          2866849          2882481          2913399          3182021          3295066   \n",
       "2    34  DZA         Algeria           Algiers    Africa         44903225         43451666         39543154         35856344         30774621         25518074   \n",
       "3   213  ASM  American Samoa         Pago Pago   Oceania            44273            46189            51368            54849            58230            47818   \n",
       "4   203  AND         Andorra  Andorra la Vella    Europe            79824            77700            71746            71519            66097            53569   \n",
       "\n",
       "   1980_Population  1970_Population     area     density  growthRate  worldpercentag  \n",
       "0         12486631         10752971   652230   63.058701      1.0257            0.52  \n",
       "1          2941651          2324731    28748   98.870201      0.9957            0.04  \n",
       "2         18739378         13795915  2381741   18.853100      1.0164            0.56  \n",
       "3            32886            27075      199  222.477402      0.9831            0.00  \n",
       "4            35611            19860      468  170.564102      1.0100            0.00  "
      ]
     },
     "execution_count": 26,
     "metadata": {},
     "output_type": "execute_result"
    }
   ],
   "source": [
    "# Now we are going to create the schema for dim_country\n",
    "dim_country_schema = StructType([StructField(\"Rank\", IntegerType(), True)\\\n",
    "                          ,StructField(\"CCA3\", StringType(), True)\\\n",
    "                          ,StructField(\"country\", StringType(), True)\\\n",
    "                          ,StructField(\"capital\", StringType(), True)\\\n",
    "                          ,StructField(\"continent\", StringType(), True)\\\n",
    "                          ,StructField(\"2022_Population\", IntegerType(), True)\\\n",
    "                          ,StructField(\"2020_Population\", IntegerType(), True)\\\n",
    "                          ,StructField(\"2015_Population\", IntegerType(), True)\\\n",
    "                          ,StructField(\"2010_Population\", IntegerType(), True)\\\n",
    "                          ,StructField(\"2000_Population\", IntegerType(), True)\\\n",
    "                          ,StructField(\"1990_Population\", IntegerType(), True)\\\n",
    "                          ,StructField(\"1980_Population\", IntegerType(), True)\\\n",
    "                          ,StructField(\"1970_Population\", IntegerType(), True)\\\n",
    "                          ,StructField(\"area\", IntegerType(), True)\\\n",
    "                          ,StructField(\"density\", FloatType(), True)\\\n",
    "                          ,StructField(\"growthRate\", FloatType(), True)\\\n",
    "                          ,StructField(\"worldpercentag\", FloatType(), True)])\n",
    "\n",
    "dim_country_spark = spark.createDataFrame(staging_world_population, schema=dim_country_schema)\n",
    "\n",
    "dim_country_spark.toPandas().head()"
   ]
  },
  {
   "cell_type": "code",
   "execution_count": 27,
   "metadata": {},
   "outputs": [],
   "source": [
    "# Now we are going to add an id column based on country column\n",
    "window = W.orderBy('country')\n",
    "dim_country_spark = dim_country_spark.withColumn('country_id', F.dense_rank().over(window))"
   ]
  },
  {
   "cell_type": "code",
   "execution_count": null,
   "metadata": {},
   "outputs": [],
   "source": [
    "dim_country_spark.toPandas().head()"
   ]
  },
  {
   "cell_type": "code",
   "execution_count": 28,
   "metadata": {},
   "outputs": [],
   "source": [
    "len_c = dim_country_spark.count()"
   ]
  },
  {
   "cell_type": "code",
   "execution_count": null,
   "metadata": {},
   "outputs": [],
   "source": [
    "utils.to_parquet(dim_country_spark,output_folder,\"dim_country_table\")"
   ]
  },
  {
   "cell_type": "markdown",
   "metadata": {},
   "source": [
    "#### DIM_DATETIME"
   ]
  },
  {
   "cell_type": "code",
   "execution_count": null,
   "metadata": {},
   "outputs": [],
   "source": [
    "df_clean_temp.head()"
   ]
  },
  {
   "cell_type": "code",
   "execution_count": 29,
   "metadata": {},
   "outputs": [],
   "source": [
    "aux_aq_dt = staging_airquality[[\"measurements_lastupdated\"]].drop_duplicates()\n",
    "aux_aq_dt[\"dt\"] = aux_aq_dt\n",
    "aux_aq_dt[\"dt\"] = pd.to_datetime(aux_aq_dt['dt']).dt.strftime('%Y/%m/%d')\n",
    "aux_aq_dt = aux_aq_dt.drop('measurements_lastupdated', axis=1)\n",
    "aux_aq_dt[\"dt\"].reset_index(drop=True, inplace=True)"
   ]
  },
  {
   "cell_type": "code",
   "execution_count": 30,
   "metadata": {},
   "outputs": [],
   "source": [
    "aux_aq_dt[\"day\"] = pd.to_datetime(aux_aq_dt[\"dt\"]).dt.day\n",
    "aux_aq_dt[\"dayofweek\"] = pd.to_datetime(aux_aq_dt['dt']).dt.dayofweek\n",
    "aux_aq_dt[\"month\"] = pd.to_datetime(aux_aq_dt['dt']).dt.month\n",
    "aux_aq_dt[\"year\"] = pd.to_datetime(aux_aq_dt['dt']).dt.year"
   ]
  },
  {
   "cell_type": "code",
   "execution_count": null,
   "metadata": {},
   "outputs": [],
   "source": [
    "aux_aq_dt.head()"
   ]
  },
  {
   "cell_type": "code",
   "execution_count": 31,
   "metadata": {},
   "outputs": [],
   "source": [
    "aux_datetime_schema = StructType([StructField(\"dt\", StringType(), True)\\\n",
    "                          ,StructField(\"day\", FloatType(), True)\\\n",
    "                          ,StructField(\"dayofweek\", IntegerType(), True)\\\n",
    "                          ,StructField(\"month\", IntegerType(), True)\\\n",
    "                          ,StructField(\"year\", IntegerType(), True)])\n",
    "\n",
    "df_aux_dt = spark.createDataFrame(aux_aq_dt, aux_datetime_schema )"
   ]
  },
  {
   "cell_type": "code",
   "execution_count": null,
   "metadata": {},
   "outputs": [],
   "source": [
    "df_aux_dt.limit(5).toPandas()"
   ]
  },
  {
   "cell_type": "code",
   "execution_count": null,
   "metadata": {},
   "outputs": [],
   "source": [
    "df_clean_temp"
   ]
  },
  {
   "cell_type": "code",
   "execution_count": 32,
   "metadata": {},
   "outputs": [],
   "source": [
    "aux_temp_dt = df_clean_temp.select(df_clean_temp.dt, dayofmonth(df_clean_temp.dt).alias('day'),dayofweek(df_clean_temp.dt).alias('dayofweek'),month(df_clean_temp.dt).alias('month'),year(df_clean_temp.dt).alias('year'))"
   ]
  },
  {
   "cell_type": "code",
   "execution_count": null,
   "metadata": {},
   "outputs": [],
   "source": [
    "aux_temp_dt.limit(5).toPandas()"
   ]
  },
  {
   "cell_type": "code",
   "execution_count": 33,
   "metadata": {},
   "outputs": [],
   "source": [
    "df3 = aux_temp_dt.union(df_aux_dt)"
   ]
  },
  {
   "cell_type": "code",
   "execution_count": null,
   "metadata": {},
   "outputs": [],
   "source": [
    "df3.limit(5).toPandas()"
   ]
  },
  {
   "cell_type": "code",
   "execution_count": 34,
   "metadata": {},
   "outputs": [
    {
     "name": "stdout",
     "output_type": "stream",
     "text": [
      "+-------------------+-------------+\n",
      "|                 dt|to_date(`dt`)|\n",
      "+-------------------+-------------+\n",
      "|1743-11-01 00:00:00|   1743-11-01|\n",
      "|1744-04-01 00:00:00|   1744-04-01|\n",
      "|1744-05-01 00:00:00|   1744-05-01|\n",
      "|1744-06-01 00:00:00|   1744-06-01|\n",
      "|1744-07-01 00:00:00|   1744-07-01|\n",
      "|1744-09-01 00:00:00|   1744-09-01|\n",
      "|1744-10-01 00:00:00|   1744-10-01|\n",
      "|1744-11-01 00:00:00|   1744-11-01|\n",
      "|1744-12-01 00:00:00|   1744-12-01|\n",
      "|1745-01-01 00:00:00|   1745-01-01|\n",
      "|1745-02-01 00:00:00|   1745-02-01|\n",
      "|1745-03-01 00:00:00|   1745-03-01|\n",
      "|1745-04-01 00:00:00|   1745-04-01|\n",
      "|1750-01-01 00:00:00|   1750-01-01|\n",
      "|1750-02-01 00:00:00|   1750-02-01|\n",
      "|1750-03-01 00:00:00|   1750-03-01|\n",
      "|1750-04-01 00:00:00|   1750-04-01|\n",
      "|1750-05-01 00:00:00|   1750-05-01|\n",
      "|1750-06-01 00:00:00|   1750-06-01|\n",
      "|1750-07-01 00:00:00|   1750-07-01|\n",
      "+-------------------+-------------+\n",
      "only showing top 20 rows\n",
      "\n"
     ]
    }
   ],
   "source": [
    "df3.select(\n",
    "    col(\"dt\"),\n",
    "    to_date(col(\"dt\"))\n",
    "  ).show()"
   ]
  },
  {
   "cell_type": "code",
   "execution_count": 35,
   "metadata": {},
   "outputs": [
    {
     "data": {
      "text/plain": [
       "DataFrame[day: float, dayofweek: int, month: int, year: int]"
      ]
     },
     "execution_count": 35,
     "metadata": {},
     "output_type": "execute_result"
    }
   ],
   "source": [
    "df3.drop(\"dt\")"
   ]
  },
  {
   "cell_type": "code",
   "execution_count": 36,
   "metadata": {},
   "outputs": [
    {
     "name": "stdout",
     "output_type": "stream",
     "text": [
      "root\n",
      " |-- dt: string (nullable = true)\n",
      " |-- day: float (nullable = true)\n",
      " |-- dayofweek: integer (nullable = true)\n",
      " |-- month: integer (nullable = true)\n",
      " |-- year: integer (nullable = true)\n",
      "\n"
     ]
    }
   ],
   "source": [
    "df3.withColumnRenamed(\"to_date(`dt`)\",\"dt\").printSchema()"
   ]
  },
  {
   "cell_type": "code",
   "execution_count": null,
   "metadata": {},
   "outputs": [],
   "source": [
    "df3.limit(5).toPandas()"
   ]
  },
  {
   "cell_type": "code",
   "execution_count": 37,
   "metadata": {},
   "outputs": [],
   "source": [
    "dim_datetime = df3"
   ]
  },
  {
   "cell_type": "code",
   "execution_count": null,
   "metadata": {},
   "outputs": [],
   "source": [
    "dim_datetime.summary().show()"
   ]
  },
  {
   "cell_type": "code",
   "execution_count": 38,
   "metadata": {},
   "outputs": [],
   "source": [
    "len_d = dim_datetime.count()"
   ]
  },
  {
   "cell_type": "code",
   "execution_count": null,
   "metadata": {},
   "outputs": [],
   "source": [
    "utils.to_parquet(dim_datetime,output_folder,\"dim_datetime\")"
   ]
  },
  {
   "cell_type": "markdown",
   "metadata": {},
   "source": [
    "#### DIM_VEHICLE"
   ]
  },
  {
   "cell_type": "code",
   "execution_count": 39,
   "metadata": {},
   "outputs": [],
   "source": [
    "# Finally we prepare dim_vehicle\n",
    "dim_vehicle = staging_electric_vehicles_sellings[[\"mode\",\"powertrain\"]]\n",
    "dim_vehicle = dim_vehicle.drop_duplicates(subset=['mode', 'powertrain'])\n",
    "dim_vehicle.reset_index(drop=True, inplace=True)"
   ]
  },
  {
   "cell_type": "code",
   "execution_count": 40,
   "metadata": {},
   "outputs": [
    {
     "data": {
      "text/html": [
       "<div>\n",
       "<style scoped>\n",
       "    .dataframe tbody tr th:only-of-type {\n",
       "        vertical-align: middle;\n",
       "    }\n",
       "\n",
       "    .dataframe tbody tr th {\n",
       "        vertical-align: top;\n",
       "    }\n",
       "\n",
       "    .dataframe thead th {\n",
       "        text-align: right;\n",
       "    }\n",
       "</style>\n",
       "<table border=\"1\" class=\"dataframe\">\n",
       "  <thead>\n",
       "    <tr style=\"text-align: right;\">\n",
       "      <th></th>\n",
       "      <th>mode</th>\n",
       "      <th>powertrain</th>\n",
       "    </tr>\n",
       "  </thead>\n",
       "  <tbody>\n",
       "    <tr>\n",
       "      <th>0</th>\n",
       "      <td>Cars</td>\n",
       "      <td>BEV</td>\n",
       "    </tr>\n",
       "    <tr>\n",
       "      <th>1</th>\n",
       "      <td>Cars</td>\n",
       "      <td>EV</td>\n",
       "    </tr>\n",
       "    <tr>\n",
       "      <th>2</th>\n",
       "      <td>Cars</td>\n",
       "      <td>PHEV</td>\n",
       "    </tr>\n",
       "    <tr>\n",
       "      <th>3</th>\n",
       "      <td>EV</td>\n",
       "      <td>Publicly available fast</td>\n",
       "    </tr>\n",
       "    <tr>\n",
       "      <th>4</th>\n",
       "      <td>EV</td>\n",
       "      <td>Publicly available slow</td>\n",
       "    </tr>\n",
       "  </tbody>\n",
       "</table>\n",
       "</div>"
      ],
      "text/plain": [
       "   mode               powertrain\n",
       "0  Cars                      BEV\n",
       "1  Cars                       EV\n",
       "2  Cars                     PHEV\n",
       "3    EV  Publicly available fast\n",
       "4    EV  Publicly available slow"
      ]
     },
     "execution_count": 40,
     "metadata": {},
     "output_type": "execute_result"
    }
   ],
   "source": [
    "# Now we are going to create the schema for dim_vehicle\n",
    "dim_vehicle_schema = StructType([StructField(\"mode\", StringType(), True)\\\n",
    "                          ,StructField(\"powertrain\", StringType(), True)])\n",
    "\n",
    "dim_vehicle_spark = spark.createDataFrame(dim_vehicle, schema=dim_vehicle_schema)\n",
    "\n",
    "dim_vehicle_spark.toPandas().head()"
   ]
  },
  {
   "cell_type": "code",
   "execution_count": 41,
   "metadata": {},
   "outputs": [],
   "source": [
    "len_v = dim_vehicle_spark.count()"
   ]
  },
  {
   "cell_type": "code",
   "execution_count": null,
   "metadata": {},
   "outputs": [],
   "source": [
    "utils.to_parquet(dim_vehicle_spark,output_folder,\"dim_vehicle\")"
   ]
  },
  {
   "cell_type": "markdown",
   "metadata": {},
   "source": [
    "#### Dimensional tables ready!"
   ]
  },
  {
   "cell_type": "markdown",
   "metadata": {},
   "source": [
    "### Now let's prepare the facts tables ..."
   ]
  },
  {
   "cell_type": "markdown",
   "metadata": {},
   "source": [
    "#### Start with facts temperature"
   ]
  },
  {
   "cell_type": "code",
   "execution_count": null,
   "metadata": {},
   "outputs": [],
   "source": [
    "#staging_temperature.limit(5).toPandas()"
   ]
  },
  {
   "cell_type": "code",
   "execution_count": 42,
   "metadata": {},
   "outputs": [],
   "source": [
    "aux_temp_dt = staging_temperature.select(staging_temperature.dt,staging_temperature.averageTemperature,staging_temperature.averageTemperatureUncertainty,staging_temperature.city,staging_temperature.country, staging_temperature.latitude,staging_temperature.longitude,year(staging_temperature.dt).alias('year'))"
   ]
  },
  {
   "cell_type": "code",
   "execution_count": null,
   "metadata": {},
   "outputs": [],
   "source": [
    "aux_temp_dt.limit(5).toPandas()"
   ]
  },
  {
   "cell_type": "code",
   "execution_count": 43,
   "metadata": {},
   "outputs": [
    {
     "data": {
      "text/html": [
       "<div>\n",
       "<style scoped>\n",
       "    .dataframe tbody tr th:only-of-type {\n",
       "        vertical-align: middle;\n",
       "    }\n",
       "\n",
       "    .dataframe tbody tr th {\n",
       "        vertical-align: top;\n",
       "    }\n",
       "\n",
       "    .dataframe thead th {\n",
       "        text-align: right;\n",
       "    }\n",
       "</style>\n",
       "<table border=\"1\" class=\"dataframe\">\n",
       "  <thead>\n",
       "    <tr style=\"text-align: right;\">\n",
       "      <th></th>\n",
       "      <th>dt</th>\n",
       "      <th>averageTemperature</th>\n",
       "      <th>averageTemperatureUncertainty</th>\n",
       "      <th>city</th>\n",
       "      <th>country</th>\n",
       "      <th>latitude</th>\n",
       "      <th>longitude</th>\n",
       "      <th>year</th>\n",
       "    </tr>\n",
       "  </thead>\n",
       "  <tbody>\n",
       "    <tr>\n",
       "      <th>0</th>\n",
       "      <td>1743-11-01</td>\n",
       "      <td>6.068</td>\n",
       "      <td>1.737</td>\n",
       "      <td>Århus</td>\n",
       "      <td>Denmark</td>\n",
       "      <td>57.05N</td>\n",
       "      <td>10.33E</td>\n",
       "      <td>1743</td>\n",
       "    </tr>\n",
       "    <tr>\n",
       "      <th>1</th>\n",
       "      <td>1744-04-01</td>\n",
       "      <td>5.788</td>\n",
       "      <td>3.624</td>\n",
       "      <td>Århus</td>\n",
       "      <td>Denmark</td>\n",
       "      <td>57.05N</td>\n",
       "      <td>10.33E</td>\n",
       "      <td>1744</td>\n",
       "    </tr>\n",
       "    <tr>\n",
       "      <th>2</th>\n",
       "      <td>1744-05-01</td>\n",
       "      <td>10.644</td>\n",
       "      <td>1.283</td>\n",
       "      <td>Århus</td>\n",
       "      <td>Denmark</td>\n",
       "      <td>57.05N</td>\n",
       "      <td>10.33E</td>\n",
       "      <td>1744</td>\n",
       "    </tr>\n",
       "    <tr>\n",
       "      <th>3</th>\n",
       "      <td>1744-06-01</td>\n",
       "      <td>14.051</td>\n",
       "      <td>1.347</td>\n",
       "      <td>Århus</td>\n",
       "      <td>Denmark</td>\n",
       "      <td>57.05N</td>\n",
       "      <td>10.33E</td>\n",
       "      <td>1744</td>\n",
       "    </tr>\n",
       "    <tr>\n",
       "      <th>4</th>\n",
       "      <td>1744-07-01</td>\n",
       "      <td>16.082</td>\n",
       "      <td>1.396</td>\n",
       "      <td>Århus</td>\n",
       "      <td>Denmark</td>\n",
       "      <td>57.05N</td>\n",
       "      <td>10.33E</td>\n",
       "      <td>1744</td>\n",
       "    </tr>\n",
       "  </tbody>\n",
       "</table>\n",
       "</div>"
      ],
      "text/plain": [
       "          dt  averageTemperature  averageTemperatureUncertainty   city  country latitude longitude  year\n",
       "0 1743-11-01               6.068                          1.737  Århus  Denmark   57.05N    10.33E  1743\n",
       "1 1744-04-01               5.788                          3.624  Århus  Denmark   57.05N    10.33E  1744\n",
       "2 1744-05-01              10.644                          1.283  Århus  Denmark   57.05N    10.33E  1744\n",
       "3 1744-06-01              14.051                          1.347  Århus  Denmark   57.05N    10.33E  1744\n",
       "4 1744-07-01              16.082                          1.396  Århus  Denmark   57.05N    10.33E  1744"
      ]
     },
     "execution_count": 43,
     "metadata": {},
     "output_type": "execute_result"
    }
   ],
   "source": [
    "facts_temperature_spark = aux_temp_dt \n",
    "\n",
    "facts_temperature_spark.limit(5).toPandas()"
   ]
  },
  {
   "cell_type": "code",
   "execution_count": 44,
   "metadata": {},
   "outputs": [],
   "source": [
    "len_t = facts_temperature_spark.count()"
   ]
  },
  {
   "cell_type": "code",
   "execution_count": null,
   "metadata": {},
   "outputs": [],
   "source": [
    "utils.to_parquet(facts_temperature_spark,output_folder,\"facts_temperature\")"
   ]
  },
  {
   "cell_type": "markdown",
   "metadata": {},
   "source": [
    "#### Let's continue with facts population"
   ]
  },
  {
   "cell_type": "code",
   "execution_count": null,
   "metadata": {},
   "outputs": [],
   "source": [
    "staging_world_population.head()"
   ]
  },
  {
   "cell_type": "code",
   "execution_count": null,
   "metadata": {
    "scrolled": true
   },
   "outputs": [],
   "source": [
    "dim_country_spark.limit(5).toPandas()"
   ]
  },
  {
   "cell_type": "code",
   "execution_count": 45,
   "metadata": {},
   "outputs": [],
   "source": [
    "facts_population = dim_country_spark"
   ]
  },
  {
   "cell_type": "code",
   "execution_count": 46,
   "metadata": {},
   "outputs": [],
   "source": [
    "len_p = facts_population.count()"
   ]
  },
  {
   "cell_type": "code",
   "execution_count": null,
   "metadata": {},
   "outputs": [],
   "source": [
    "utils.to_parquet(facts_population,output_folder,\"facts_population\")"
   ]
  },
  {
   "cell_type": "markdown",
   "metadata": {},
   "source": [
    "#### Let's continue with facts AirQuality"
   ]
  },
  {
   "cell_type": "code",
   "execution_count": 47,
   "metadata": {},
   "outputs": [],
   "source": [
    "facts_airquality = staging_airquality"
   ]
  },
  {
   "cell_type": "code",
   "execution_count": null,
   "metadata": {},
   "outputs": [],
   "source": [
    "facts_airquality.head()"
   ]
  },
  {
   "cell_type": "code",
   "execution_count": null,
   "metadata": {},
   "outputs": [],
   "source": [
    "dim_country_spark.head()"
   ]
  },
  {
   "cell_type": "code",
   "execution_count": 48,
   "metadata": {},
   "outputs": [],
   "source": [
    "dim_country_df = dim_country_spark.toPandas()"
   ]
  },
  {
   "cell_type": "code",
   "execution_count": null,
   "metadata": {},
   "outputs": [],
   "source": [
    "facts_airquality.info()"
   ]
  },
  {
   "cell_type": "code",
   "execution_count": 49,
   "metadata": {},
   "outputs": [],
   "source": [
    "facts_airquality.rename(columns={'country':'country_iso','country_name_en':'country'}, inplace=True)"
   ]
  },
  {
   "cell_type": "code",
   "execution_count": 50,
   "metadata": {},
   "outputs": [],
   "source": [
    "# join facts_airquality and dim_country\n",
    "new_staging_airquality_spark = staging_airquality_spark.join(dim_country_spark, (staging_airquality_spark.country == dim_country_spark.country), how='inner')"
   ]
  },
  {
   "cell_type": "code",
   "execution_count": null,
   "metadata": {},
   "outputs": [],
   "source": [
    "new_staging_airquality_spark.limit(5).toPandas()"
   ]
  },
  {
   "cell_type": "code",
   "execution_count": 51,
   "metadata": {},
   "outputs": [],
   "source": [
    "new_staging_airquality_spark = new_staging_airquality_spark.select(\n",
    "    new_staging_airquality_spark.country_id,\n",
    "    new_staging_airquality_spark.city,\n",
    "    new_staging_airquality_spark.measurements_lastupdated.alias('dt'),\n",
    "    new_staging_airquality_spark.location,\n",
    "    new_staging_airquality_spark.measurements_parameter,\n",
    "    new_staging_airquality_spark.measurements_unit, \n",
    "    new_staging_airquality_spark.measurements_value,\n",
    "    new_staging_airquality_spark.measurements_lastupdated,\n",
    "    new_staging_airquality_spark.measurements_sourcename,  \n",
    "    year(new_staging_airquality_spark.measurements_lastupdated).alias('year'))\n",
    "new_staging_airquality_spark = new_staging_airquality_spark.withColumn('dt',to_date('dt', 'yyyymmdd'))"
   ]
  },
  {
   "cell_type": "code",
   "execution_count": null,
   "metadata": {},
   "outputs": [],
   "source": [
    "new_staging_airquality_spark.limit(5).toPandas()"
   ]
  },
  {
   "cell_type": "code",
   "execution_count": 52,
   "metadata": {},
   "outputs": [],
   "source": [
    "facts_airquality_spark = new_staging_airquality_spark"
   ]
  },
  {
   "cell_type": "code",
   "execution_count": 53,
   "metadata": {},
   "outputs": [],
   "source": [
    "len_aq = facts_airquality_spark.count()"
   ]
  },
  {
   "cell_type": "code",
   "execution_count": null,
   "metadata": {},
   "outputs": [],
   "source": [
    "utils.to_parquet(facts_airquality_spark,output_folder,\"facts_airquality\")"
   ]
  },
  {
   "cell_type": "markdown",
   "metadata": {},
   "source": [
    "#### And finally let's prepare the Fact Car Sales"
   ]
  },
  {
   "cell_type": "code",
   "execution_count": 54,
   "metadata": {},
   "outputs": [],
   "source": [
    "facts_car_sales = staging_electric_vehicles_sellings[[\"region\",\"mode\",\"year\",\"parameter\",\"powertrain\",\"unit\",\"value\",\"category\"]]"
   ]
  },
  {
   "cell_type": "code",
   "execution_count": null,
   "metadata": {},
   "outputs": [],
   "source": [
    "facts_car_sales"
   ]
  },
  {
   "cell_type": "code",
   "execution_count": 55,
   "metadata": {},
   "outputs": [],
   "source": [
    "facts_car_sales = facts_car_sales.rename(columns={'region': 'country'})"
   ]
  },
  {
   "cell_type": "code",
   "execution_count": null,
   "metadata": {},
   "outputs": [],
   "source": [
    "facts_car_sales.head(10)"
   ]
  },
  {
   "cell_type": "code",
   "execution_count": 56,
   "metadata": {},
   "outputs": [],
   "source": [
    "# Now we are going to create the schema for dim_vehicle\n",
    "facts_car_sales_schema = StructType([StructField(\"country\", StringType(), True)\\\n",
    "                            ,StructField(\"mode\", StringType(), True)\\\n",
    "                            ,StructField(\"year\", IntegerType(), True)\\\n",
    "                            ,StructField(\"parameter\", StringType(), True)\\\n",
    "                            ,StructField(\"powertrain\", StringType(), True)\\\n",
    "                            ,StructField(\"unit\", StringType(), True)\\\n",
    "                            ,StructField(\"value\", FloatType(), True)\\\n",
    "                           ,StructField(\"category\", StringType(), True)])\n",
    "\n",
    "facts_car_sales_spark = spark.createDataFrame(facts_car_sales, schema=facts_car_sales_schema)"
   ]
  },
  {
   "cell_type": "code",
   "execution_count": null,
   "metadata": {},
   "outputs": [],
   "source": [
    "facts_car_sales_spark.limit(5).toPandas()"
   ]
  },
  {
   "cell_type": "code",
   "execution_count": null,
   "metadata": {},
   "outputs": [],
   "source": [
    "dim_country_spark.limit(5).toPandas()"
   ]
  },
  {
   "cell_type": "code",
   "execution_count": 57,
   "metadata": {},
   "outputs": [],
   "source": [
    "new_facts_car_sales = facts_car_sales_spark.join(dim_country_spark, facts_car_sales_spark.country == dim_country_spark.country,how='inner') # Could also use 'left_outer'"
   ]
  },
  {
   "cell_type": "code",
   "execution_count": null,
   "metadata": {},
   "outputs": [],
   "source": [
    "new_facts_car_sales.limit(5).toPandas()"
   ]
  },
  {
   "cell_type": "code",
   "execution_count": 58,
   "metadata": {},
   "outputs": [],
   "source": [
    "new_facts_car_sales_spark = new_facts_car_sales.select(\n",
    "    new_facts_car_sales.country_id,\n",
    "    new_facts_car_sales.mode,\n",
    "    new_facts_car_sales.year,\n",
    "    new_facts_car_sales.parameter,\n",
    "    new_facts_car_sales.powertrain, \n",
    "    new_facts_car_sales.unit,\n",
    "    new_facts_car_sales.value,\n",
    "    new_facts_car_sales.category)"
   ]
  },
  {
   "cell_type": "code",
   "execution_count": 59,
   "metadata": {},
   "outputs": [
    {
     "data": {
      "text/html": [
       "<div>\n",
       "<style scoped>\n",
       "    .dataframe tbody tr th:only-of-type {\n",
       "        vertical-align: middle;\n",
       "    }\n",
       "\n",
       "    .dataframe tbody tr th {\n",
       "        vertical-align: top;\n",
       "    }\n",
       "\n",
       "    .dataframe thead th {\n",
       "        text-align: right;\n",
       "    }\n",
       "</style>\n",
       "<table border=\"1\" class=\"dataframe\">\n",
       "  <thead>\n",
       "    <tr style=\"text-align: right;\">\n",
       "      <th></th>\n",
       "      <th>country_id</th>\n",
       "      <th>mode</th>\n",
       "      <th>year</th>\n",
       "      <th>parameter</th>\n",
       "      <th>powertrain</th>\n",
       "      <th>unit</th>\n",
       "      <th>value</th>\n",
       "      <th>category</th>\n",
       "    </tr>\n",
       "  </thead>\n",
       "  <tbody>\n",
       "    <tr>\n",
       "      <th>0</th>\n",
       "      <td>201</td>\n",
       "      <td>Cars</td>\n",
       "      <td>2010</td>\n",
       "      <td>EV sales</td>\n",
       "      <td>BEV</td>\n",
       "      <td>sales</td>\n",
       "      <td>4.0000</td>\n",
       "      <td>Historical</td>\n",
       "    </tr>\n",
       "    <tr>\n",
       "      <th>1</th>\n",
       "      <td>201</td>\n",
       "      <td>Cars</td>\n",
       "      <td>2010</td>\n",
       "      <td>EV stock</td>\n",
       "      <td>BEV</td>\n",
       "      <td>stock</td>\n",
       "      <td>4.0000</td>\n",
       "      <td>Historical</td>\n",
       "    </tr>\n",
       "    <tr>\n",
       "      <th>2</th>\n",
       "      <td>201</td>\n",
       "      <td>Cars</td>\n",
       "      <td>2010</td>\n",
       "      <td>EV sales share</td>\n",
       "      <td>EV</td>\n",
       "      <td>percent</td>\n",
       "      <td>0.0013</td>\n",
       "      <td>Historical</td>\n",
       "    </tr>\n",
       "    <tr>\n",
       "      <th>3</th>\n",
       "      <td>201</td>\n",
       "      <td>Cars</td>\n",
       "      <td>2010</td>\n",
       "      <td>EV stock share</td>\n",
       "      <td>EV</td>\n",
       "      <td>percent</td>\n",
       "      <td>0.0001</td>\n",
       "      <td>Historical</td>\n",
       "    </tr>\n",
       "    <tr>\n",
       "      <th>4</th>\n",
       "      <td>201</td>\n",
       "      <td>Cars</td>\n",
       "      <td>2011</td>\n",
       "      <td>EV stock share</td>\n",
       "      <td>EV</td>\n",
       "      <td>percent</td>\n",
       "      <td>0.0044</td>\n",
       "      <td>Historical</td>\n",
       "    </tr>\n",
       "  </tbody>\n",
       "</table>\n",
       "</div>"
      ],
      "text/plain": [
       "   country_id  mode  year       parameter powertrain     unit   value    category\n",
       "0         201  Cars  2010        EV sales        BEV    sales  4.0000  Historical\n",
       "1         201  Cars  2010        EV stock        BEV    stock  4.0000  Historical\n",
       "2         201  Cars  2010  EV sales share         EV  percent  0.0013  Historical\n",
       "3         201  Cars  2010  EV stock share         EV  percent  0.0001  Historical\n",
       "4         201  Cars  2011  EV stock share         EV  percent  0.0044  Historical"
      ]
     },
     "execution_count": 59,
     "metadata": {},
     "output_type": "execute_result"
    }
   ],
   "source": [
    "new_facts_car_sales_spark.limit(5).toPandas()"
   ]
  },
  {
   "cell_type": "code",
   "execution_count": 60,
   "metadata": {},
   "outputs": [],
   "source": [
    "len_fc = new_facts_car_sales_spark.count()"
   ]
  },
  {
   "cell_type": "code",
   "execution_count": null,
   "metadata": {},
   "outputs": [],
   "source": [
    "utils.to_parquet(new_facts_car_sales_spark,output_folder,\"facts_car_sales\")"
   ]
  },
  {
   "cell_type": "code",
   "execution_count": null,
   "metadata": {},
   "outputs": [],
   "source": []
  },
  {
   "cell_type": "markdown",
   "metadata": {},
   "source": [
    "#### 4.2 Data Quality Checks\n",
    "Explain the data quality checks you'll perform to ensure the pipeline ran as expected. These could include:\n",
    " * Integrity constraints on the relational database (e.g., unique key, data type, etc.)\n",
    " * Unit tests for the scripts to ensure they are doing the right thing\n",
    " * Source/Count checks to ensure completeness\n",
    " \n",
    "Run Quality Checks"
   ]
  },
  {
   "cell_type": "markdown",
   "metadata": {},
   "source": [
    "#### Perform quality checks here"
   ]
  },
  {
   "cell_type": "code",
   "execution_count": 61,
   "metadata": {},
   "outputs": [],
   "source": [
    "st_w = spark.read.parquet(\"output/staging_world_population_table\")\n",
    "st_tp = spark.read.parquet('output/staging_temp_table')\n",
    "st_aq = spark.read.parquet(\"output/staging_airquality_table\")\n",
    "st_ev = spark.read.parquet(\"output/staging_ev_table\")\n",
    "\n",
    "dim_c = spark.read.parquet(\"output/dim_country_table\") \n",
    "dim_d = spark.read.parquet('output/dim_datetime') \n",
    "dim_v = spark.read.parquet(\"output/dim_vehicle\") \n",
    "\n",
    "fact_aq = spark.read.parquet(\"output/facts_airquality\") \n",
    "fact_c = spark.read.parquet(\"output/facts_car_sales\") \n",
    "fact_p = spark.read.parquet(\"output/facts_population\") \n",
    "fact_t = spark.read.parquet(\"output/facts_temperature\") "
   ]
  },
  {
   "cell_type": "code",
   "execution_count": 62,
   "metadata": {},
   "outputs": [
    {
     "name": "stdout",
     "output_type": "stream",
     "text": [
      "Data Quality Check for DataFrame[Rank: int, CCA3: string, country: string, capital: string, continent: string, 2022_Population: int, 2020_Population: int, 2015_Population: int, 2010_Population: int, 2000_Population: int, 1990_Population: int, 1980_Population: int, 1970_Population: int, area: int, density: float, growthrate: float, worldpercentage: float] passed ok! \n"
     ]
    }
   ],
   "source": [
    "utils.check_numrows(st_w,len_w)"
   ]
  },
  {
   "cell_type": "code",
   "execution_count": null,
   "metadata": {},
   "outputs": [],
   "source": [
    "utils.check_numrows(st_tp,len_tp)"
   ]
  },
  {
   "cell_type": "code",
   "execution_count": 63,
   "metadata": {},
   "outputs": [
    {
     "name": "stdout",
     "output_type": "stream",
     "text": [
      "Data Quality Check for DataFrame[city: string, coordinates: string, country: string, country_name_en: string, location: string, measurements_lastupdated: string, measurements_parameter: string, measurements_sourcename: string, measurements_unit: string, measurements_value: float] passed ok! \n"
     ]
    }
   ],
   "source": [
    "utils.check_numrows(st_aq,len_saq)"
   ]
  },
  {
   "cell_type": "code",
   "execution_count": 62,
   "metadata": {},
   "outputs": [
    {
     "name": "stdout",
     "output_type": "stream",
     "text": [
      "Data Quality Check for DataFrame[region: string, category: string, parameter: string, mode: string, powertrain: string, year: int, unit: string, value: float] passed ok! \n"
     ]
    }
   ],
   "source": [
    "utils.check_numrows(st_ev,len_ev)"
   ]
  },
  {
   "cell_type": "code",
   "execution_count": 63,
   "metadata": {},
   "outputs": [
    {
     "name": "stdout",
     "output_type": "stream",
     "text": [
      "Data Quality Check for DataFrame[Rank: int, CCA3: string, country: string, capital: string, continent: string, 2022_Population: int, 2020_Population: int, 2015_Population: int, 2010_Population: int, 2000_Population: int, 1990_Population: int, 1980_Population: int, 1970_Population: int, area: int, density: float, growthRate: float, worldpercentag: float, country_id: int] passed ok! \n"
     ]
    }
   ],
   "source": [
    "utils.check_numrows(dim_c,len_c)"
   ]
  },
  {
   "cell_type": "code",
   "execution_count": 64,
   "metadata": {},
   "outputs": [
    {
     "name": "stdout",
     "output_type": "stream",
     "text": [
      "Data Quality Check for DataFrame[dt: string, day: float, dayofweek: int, month: int, year: int] passed ok! \n"
     ]
    }
   ],
   "source": [
    "utils.check_numrows(dim_d,len_d)"
   ]
  },
  {
   "cell_type": "code",
   "execution_count": 65,
   "metadata": {},
   "outputs": [
    {
     "name": "stdout",
     "output_type": "stream",
     "text": [
      "Data Quality Check for DataFrame[mode: string, powertrain: string] passed ok! \n"
     ]
    }
   ],
   "source": [
    "utils.check_numrows(dim_v,len_v)"
   ]
  },
  {
   "cell_type": "code",
   "execution_count": 66,
   "metadata": {},
   "outputs": [
    {
     "name": "stdout",
     "output_type": "stream",
     "text": [
      "Data Quality Check for DataFrame[country_id: int, city: string, dt: date, location: string, measurements_parameter: string, measurements_unit: string, measurements_value: float, measurements_lastupdated: string, measurements_sourcename: string, year: int] passed ok! \n"
     ]
    }
   ],
   "source": [
    "utils.check_numrows(fact_aq,len_aq)"
   ]
  },
  {
   "cell_type": "code",
   "execution_count": null,
   "metadata": {},
   "outputs": [],
   "source": [
    "utils.check_numrows(fact_t,len_t)"
   ]
  },
  {
   "cell_type": "code",
   "execution_count": 67,
   "metadata": {},
   "outputs": [
    {
     "name": "stdout",
     "output_type": "stream",
     "text": [
      "Data Quality Check for DataFrame[country_id: int, mode: string, year: int, parameter: string, powertrain: string, unit: string, value: float, category: string] passed ok! \n"
     ]
    }
   ],
   "source": [
    "utils.check_numrows(fact_c,len_fc)"
   ]
  },
  {
   "cell_type": "code",
   "execution_count": 68,
   "metadata": {},
   "outputs": [
    {
     "name": "stdout",
     "output_type": "stream",
     "text": [
      "Data Quality Check for DataFrame[Rank: int, CCA3: string, country: string, capital: string, continent: string, 2022_Population: int, 2020_Population: int, 2015_Population: int, 2010_Population: int, 2000_Population: int, 1990_Population: int, 1980_Population: int, 1970_Population: int, area: int, density: float, growthRate: float, worldpercentag: float, country_id: int] passed ok! \n"
     ]
    }
   ],
   "source": [
    "utils.check_numrows(fact_p,len_p)"
   ]
  },
  {
   "cell_type": "markdown",
   "metadata": {},
   "source": [
    "#### Check tables "
   ]
  },
  {
   "cell_type": "code",
   "execution_count": null,
   "metadata": {},
   "outputs": [],
   "source": [
    "# dim_datetime\n",
    "#datetimes = spark.read.parquet(\"output/dim_datetime\")\n",
    "#datetimes.toPandas().head()"
   ]
  },
  {
   "cell_type": "code",
   "execution_count": 64,
   "metadata": {},
   "outputs": [
    {
     "data": {
      "text/html": [
       "<div>\n",
       "<style scoped>\n",
       "    .dataframe tbody tr th:only-of-type {\n",
       "        vertical-align: middle;\n",
       "    }\n",
       "\n",
       "    .dataframe tbody tr th {\n",
       "        vertical-align: top;\n",
       "    }\n",
       "\n",
       "    .dataframe thead th {\n",
       "        text-align: right;\n",
       "    }\n",
       "</style>\n",
       "<table border=\"1\" class=\"dataframe\">\n",
       "  <thead>\n",
       "    <tr style=\"text-align: right;\">\n",
       "      <th></th>\n",
       "      <th>Rank</th>\n",
       "      <th>CCA3</th>\n",
       "      <th>country</th>\n",
       "      <th>capital</th>\n",
       "      <th>continent</th>\n",
       "      <th>2022_Population</th>\n",
       "      <th>2020_Population</th>\n",
       "      <th>2015_Population</th>\n",
       "      <th>2010_Population</th>\n",
       "      <th>2000_Population</th>\n",
       "      <th>1990_Population</th>\n",
       "      <th>1980_Population</th>\n",
       "      <th>1970_Population</th>\n",
       "      <th>area</th>\n",
       "      <th>density</th>\n",
       "      <th>growthRate</th>\n",
       "      <th>worldpercentag</th>\n",
       "      <th>country_id</th>\n",
       "    </tr>\n",
       "  </thead>\n",
       "  <tbody>\n",
       "    <tr>\n",
       "      <th>0</th>\n",
       "      <td>36</td>\n",
       "      <td>AFG</td>\n",
       "      <td>Afghanistan</td>\n",
       "      <td>Kabul</td>\n",
       "      <td>Asia</td>\n",
       "      <td>41128771</td>\n",
       "      <td>38972230</td>\n",
       "      <td>33753499</td>\n",
       "      <td>28189672</td>\n",
       "      <td>19542982</td>\n",
       "      <td>10694796</td>\n",
       "      <td>12486631</td>\n",
       "      <td>10752971</td>\n",
       "      <td>652230</td>\n",
       "      <td>63.058701</td>\n",
       "      <td>1.0257</td>\n",
       "      <td>0.52</td>\n",
       "      <td>1</td>\n",
       "    </tr>\n",
       "    <tr>\n",
       "      <th>1</th>\n",
       "      <td>138</td>\n",
       "      <td>ALB</td>\n",
       "      <td>Albania</td>\n",
       "      <td>Tirana</td>\n",
       "      <td>Europe</td>\n",
       "      <td>2842321</td>\n",
       "      <td>2866849</td>\n",
       "      <td>2882481</td>\n",
       "      <td>2913399</td>\n",
       "      <td>3182021</td>\n",
       "      <td>3295066</td>\n",
       "      <td>2941651</td>\n",
       "      <td>2324731</td>\n",
       "      <td>28748</td>\n",
       "      <td>98.870201</td>\n",
       "      <td>0.9957</td>\n",
       "      <td>0.04</td>\n",
       "      <td>2</td>\n",
       "    </tr>\n",
       "    <tr>\n",
       "      <th>2</th>\n",
       "      <td>34</td>\n",
       "      <td>DZA</td>\n",
       "      <td>Algeria</td>\n",
       "      <td>Algiers</td>\n",
       "      <td>Africa</td>\n",
       "      <td>44903225</td>\n",
       "      <td>43451666</td>\n",
       "      <td>39543154</td>\n",
       "      <td>35856344</td>\n",
       "      <td>30774621</td>\n",
       "      <td>25518074</td>\n",
       "      <td>18739378</td>\n",
       "      <td>13795915</td>\n",
       "      <td>2381741</td>\n",
       "      <td>18.853100</td>\n",
       "      <td>1.0164</td>\n",
       "      <td>0.56</td>\n",
       "      <td>3</td>\n",
       "    </tr>\n",
       "    <tr>\n",
       "      <th>3</th>\n",
       "      <td>213</td>\n",
       "      <td>ASM</td>\n",
       "      <td>American Samoa</td>\n",
       "      <td>Pago Pago</td>\n",
       "      <td>Oceania</td>\n",
       "      <td>44273</td>\n",
       "      <td>46189</td>\n",
       "      <td>51368</td>\n",
       "      <td>54849</td>\n",
       "      <td>58230</td>\n",
       "      <td>47818</td>\n",
       "      <td>32886</td>\n",
       "      <td>27075</td>\n",
       "      <td>199</td>\n",
       "      <td>222.477402</td>\n",
       "      <td>0.9831</td>\n",
       "      <td>0.00</td>\n",
       "      <td>4</td>\n",
       "    </tr>\n",
       "    <tr>\n",
       "      <th>4</th>\n",
       "      <td>203</td>\n",
       "      <td>AND</td>\n",
       "      <td>Andorra</td>\n",
       "      <td>Andorra la Vella</td>\n",
       "      <td>Europe</td>\n",
       "      <td>79824</td>\n",
       "      <td>77700</td>\n",
       "      <td>71746</td>\n",
       "      <td>71519</td>\n",
       "      <td>66097</td>\n",
       "      <td>53569</td>\n",
       "      <td>35611</td>\n",
       "      <td>19860</td>\n",
       "      <td>468</td>\n",
       "      <td>170.564102</td>\n",
       "      <td>1.0100</td>\n",
       "      <td>0.00</td>\n",
       "      <td>5</td>\n",
       "    </tr>\n",
       "  </tbody>\n",
       "</table>\n",
       "</div>"
      ],
      "text/plain": [
       "   Rank CCA3         country           capital continent  2022_Population  2020_Population  2015_Population  2010_Population  2000_Population  1990_Population  \\\n",
       "0    36  AFG     Afghanistan             Kabul      Asia         41128771         38972230         33753499         28189672         19542982         10694796   \n",
       "1   138  ALB         Albania            Tirana    Europe          2842321          2866849          2882481          2913399          3182021          3295066   \n",
       "2    34  DZA         Algeria           Algiers    Africa         44903225         43451666         39543154         35856344         30774621         25518074   \n",
       "3   213  ASM  American Samoa         Pago Pago   Oceania            44273            46189            51368            54849            58230            47818   \n",
       "4   203  AND         Andorra  Andorra la Vella    Europe            79824            77700            71746            71519            66097            53569   \n",
       "\n",
       "   1980_Population  1970_Population     area     density  growthRate  worldpercentag  country_id  \n",
       "0         12486631         10752971   652230   63.058701      1.0257            0.52           1  \n",
       "1          2941651          2324731    28748   98.870201      0.9957            0.04           2  \n",
       "2         18739378         13795915  2381741   18.853100      1.0164            0.56           3  \n",
       "3            32886            27075      199  222.477402      0.9831            0.00           4  \n",
       "4            35611            19860      468  170.564102      1.0100            0.00           5  "
      ]
     },
     "execution_count": 64,
     "metadata": {},
     "output_type": "execute_result"
    }
   ],
   "source": [
    "# dim_country\n",
    "countries = spark.read.parquet(\"output/dim_country_table\")\n",
    "countries.toPandas().head()"
   ]
  },
  {
   "cell_type": "code",
   "execution_count": 65,
   "metadata": {},
   "outputs": [
    {
     "data": {
      "text/html": [
       "<div>\n",
       "<style scoped>\n",
       "    .dataframe tbody tr th:only-of-type {\n",
       "        vertical-align: middle;\n",
       "    }\n",
       "\n",
       "    .dataframe tbody tr th {\n",
       "        vertical-align: top;\n",
       "    }\n",
       "\n",
       "    .dataframe thead th {\n",
       "        text-align: right;\n",
       "    }\n",
       "</style>\n",
       "<table border=\"1\" class=\"dataframe\">\n",
       "  <thead>\n",
       "    <tr style=\"text-align: right;\">\n",
       "      <th></th>\n",
       "      <th>mode</th>\n",
       "      <th>powertrain</th>\n",
       "    </tr>\n",
       "  </thead>\n",
       "  <tbody>\n",
       "    <tr>\n",
       "      <th>0</th>\n",
       "      <td>EV</td>\n",
       "      <td>Publicly available slow</td>\n",
       "    </tr>\n",
       "    <tr>\n",
       "      <th>1</th>\n",
       "      <td>EV</td>\n",
       "      <td>Publicly available fast</td>\n",
       "    </tr>\n",
       "    <tr>\n",
       "      <th>2</th>\n",
       "      <td>SSPACEHHP</td>\n",
       "      <td>PHEV</td>\n",
       "    </tr>\n",
       "    <tr>\n",
       "      <th>3</th>\n",
       "      <td>Trucks</td>\n",
       "      <td>PHEV</td>\n",
       "    </tr>\n",
       "    <tr>\n",
       "      <th>4</th>\n",
       "      <td>Buses</td>\n",
       "      <td>PHEV</td>\n",
       "    </tr>\n",
       "  </tbody>\n",
       "</table>\n",
       "</div>"
      ],
      "text/plain": [
       "        mode               powertrain\n",
       "0         EV  Publicly available slow\n",
       "1         EV  Publicly available fast\n",
       "2  SSPACEHHP                     PHEV\n",
       "3     Trucks                     PHEV\n",
       "4      Buses                     PHEV"
      ]
     },
     "execution_count": 65,
     "metadata": {},
     "output_type": "execute_result"
    }
   ],
   "source": [
    "# dim vehicle\n",
    "vehicles = spark.read.parquet(\"output/dim_vehicle\")\n",
    "vehicles.toPandas().head()"
   ]
  },
  {
   "cell_type": "code",
   "execution_count": 66,
   "metadata": {},
   "outputs": [
    {
     "data": {
      "text/html": [
       "<div>\n",
       "<style scoped>\n",
       "    .dataframe tbody tr th:only-of-type {\n",
       "        vertical-align: middle;\n",
       "    }\n",
       "\n",
       "    .dataframe tbody tr th {\n",
       "        vertical-align: top;\n",
       "    }\n",
       "\n",
       "    .dataframe thead th {\n",
       "        text-align: right;\n",
       "    }\n",
       "</style>\n",
       "<table border=\"1\" class=\"dataframe\">\n",
       "  <thead>\n",
       "    <tr style=\"text-align: right;\">\n",
       "      <th></th>\n",
       "      <th>country_id</th>\n",
       "      <th>city</th>\n",
       "      <th>dt</th>\n",
       "      <th>location</th>\n",
       "      <th>measurements_parameter</th>\n",
       "      <th>measurements_unit</th>\n",
       "      <th>measurements_value</th>\n",
       "      <th>measurements_lastupdated</th>\n",
       "      <th>measurements_sourcename</th>\n",
       "      <th>year</th>\n",
       "    </tr>\n",
       "  </thead>\n",
       "  <tbody>\n",
       "    <tr>\n",
       "      <th>0</th>\n",
       "      <td>43</td>\n",
       "      <td>Bogota</td>\n",
       "      <td>2022-01-04</td>\n",
       "      <td>Fontibon</td>\n",
       "      <td>SO2</td>\n",
       "      <td>ppm</td>\n",
       "      <td>0.003480</td>\n",
       "      <td>2022-04-01T07:00:00+02:00</td>\n",
       "      <td>Bogota</td>\n",
       "      <td>2022</td>\n",
       "    </tr>\n",
       "    <tr>\n",
       "      <th>1</th>\n",
       "      <td>43</td>\n",
       "      <td>Bogota</td>\n",
       "      <td>2022-01-04</td>\n",
       "      <td>Centro de Alto Rendimiento</td>\n",
       "      <td>O3</td>\n",
       "      <td>ppm</td>\n",
       "      <td>0.000875</td>\n",
       "      <td>2022-04-01T07:00:00+02:00</td>\n",
       "      <td>Bogota</td>\n",
       "      <td>2022</td>\n",
       "    </tr>\n",
       "    <tr>\n",
       "      <th>2</th>\n",
       "      <td>43</td>\n",
       "      <td>Bogota</td>\n",
       "      <td>2022-01-04</td>\n",
       "      <td>San Cristobal</td>\n",
       "      <td>CO</td>\n",
       "      <td>ppm</td>\n",
       "      <td>0.498605</td>\n",
       "      <td>2022-04-01T07:00:00+02:00</td>\n",
       "      <td>Bogota</td>\n",
       "      <td>2022</td>\n",
       "    </tr>\n",
       "    <tr>\n",
       "      <th>3</th>\n",
       "      <td>43</td>\n",
       "      <td>Bogota</td>\n",
       "      <td>2022-01-04</td>\n",
       "      <td>Movil Fontibon</td>\n",
       "      <td>CO</td>\n",
       "      <td>ppm</td>\n",
       "      <td>0.934054</td>\n",
       "      <td>2022-04-01T07:00:00+02:00</td>\n",
       "      <td>Bogota</td>\n",
       "      <td>2022</td>\n",
       "    </tr>\n",
       "    <tr>\n",
       "      <th>4</th>\n",
       "      <td>43</td>\n",
       "      <td>Bogota</td>\n",
       "      <td>2022-01-04</td>\n",
       "      <td>Jazmin</td>\n",
       "      <td>NO2</td>\n",
       "      <td>ppm</td>\n",
       "      <td>0.021053</td>\n",
       "      <td>2022-04-01T07:00:00+02:00</td>\n",
       "      <td>Bogota</td>\n",
       "      <td>2022</td>\n",
       "    </tr>\n",
       "  </tbody>\n",
       "</table>\n",
       "</div>"
      ],
      "text/plain": [
       "   country_id    city          dt                    location measurements_parameter measurements_unit  measurements_value   measurements_lastupdated  \\\n",
       "0          43  Bogota  2022-01-04                    Fontibon                    SO2               ppm            0.003480  2022-04-01T07:00:00+02:00   \n",
       "1          43  Bogota  2022-01-04  Centro de Alto Rendimiento                     O3               ppm            0.000875  2022-04-01T07:00:00+02:00   \n",
       "2          43  Bogota  2022-01-04               San Cristobal                     CO               ppm            0.498605  2022-04-01T07:00:00+02:00   \n",
       "3          43  Bogota  2022-01-04              Movil Fontibon                     CO               ppm            0.934054  2022-04-01T07:00:00+02:00   \n",
       "4          43  Bogota  2022-01-04                      Jazmin                    NO2               ppm            0.021053  2022-04-01T07:00:00+02:00   \n",
       "\n",
       "  measurements_sourcename  year  \n",
       "0                  Bogota  2022  \n",
       "1                  Bogota  2022  \n",
       "2                  Bogota  2022  \n",
       "3                  Bogota  2022  \n",
       "4                  Bogota  2022  "
      ]
     },
     "execution_count": 66,
     "metadata": {},
     "output_type": "execute_result"
    }
   ],
   "source": [
    "# facts_airquality\n",
    "facts_airquality = spark.read.parquet(\"output/facts_airquality\")\n",
    "facts_airquality.toPandas().head()"
   ]
  },
  {
   "cell_type": "code",
   "execution_count": 67,
   "metadata": {},
   "outputs": [
    {
     "data": {
      "text/html": [
       "<div>\n",
       "<style scoped>\n",
       "    .dataframe tbody tr th:only-of-type {\n",
       "        vertical-align: middle;\n",
       "    }\n",
       "\n",
       "    .dataframe tbody tr th {\n",
       "        vertical-align: top;\n",
       "    }\n",
       "\n",
       "    .dataframe thead th {\n",
       "        text-align: right;\n",
       "    }\n",
       "</style>\n",
       "<table border=\"1\" class=\"dataframe\">\n",
       "  <thead>\n",
       "    <tr style=\"text-align: right;\">\n",
       "      <th></th>\n",
       "      <th>country_id</th>\n",
       "      <th>mode</th>\n",
       "      <th>year</th>\n",
       "      <th>parameter</th>\n",
       "      <th>powertrain</th>\n",
       "      <th>unit</th>\n",
       "      <th>value</th>\n",
       "      <th>category</th>\n",
       "    </tr>\n",
       "  </thead>\n",
       "  <tbody>\n",
       "    <tr>\n",
       "      <th>0</th>\n",
       "      <td>42</td>\n",
       "      <td>Buses</td>\n",
       "      <td>2010</td>\n",
       "      <td>EV sales</td>\n",
       "      <td>BEV</td>\n",
       "      <td>sales</td>\n",
       "      <td>1900.00000</td>\n",
       "      <td>Historical</td>\n",
       "    </tr>\n",
       "    <tr>\n",
       "      <th>1</th>\n",
       "      <td>42</td>\n",
       "      <td>Buses</td>\n",
       "      <td>2010</td>\n",
       "      <td>EV stock</td>\n",
       "      <td>BEV</td>\n",
       "      <td>stock</td>\n",
       "      <td>1900.00000</td>\n",
       "      <td>Historical</td>\n",
       "    </tr>\n",
       "    <tr>\n",
       "      <th>2</th>\n",
       "      <td>42</td>\n",
       "      <td>Trucks</td>\n",
       "      <td>2010</td>\n",
       "      <td>EV sales</td>\n",
       "      <td>BEV</td>\n",
       "      <td>sales</td>\n",
       "      <td>4.90000</td>\n",
       "      <td>Historical</td>\n",
       "    </tr>\n",
       "    <tr>\n",
       "      <th>3</th>\n",
       "      <td>42</td>\n",
       "      <td>Buses</td>\n",
       "      <td>2010</td>\n",
       "      <td>EV sales share</td>\n",
       "      <td>EV</td>\n",
       "      <td>percent</td>\n",
       "      <td>0.39000</td>\n",
       "      <td>Historical</td>\n",
       "    </tr>\n",
       "    <tr>\n",
       "      <th>4</th>\n",
       "      <td>42</td>\n",
       "      <td>Buses</td>\n",
       "      <td>2010</td>\n",
       "      <td>Oil displacement Mbd</td>\n",
       "      <td>EV</td>\n",
       "      <td>Milion barrels per day</td>\n",
       "      <td>0.00059</td>\n",
       "      <td>Historical</td>\n",
       "    </tr>\n",
       "  </tbody>\n",
       "</table>\n",
       "</div>"
      ],
      "text/plain": [
       "   country_id    mode  year             parameter powertrain                    unit       value    category\n",
       "0          42   Buses  2010              EV sales        BEV                   sales  1900.00000  Historical\n",
       "1          42   Buses  2010              EV stock        BEV                   stock  1900.00000  Historical\n",
       "2          42  Trucks  2010              EV sales        BEV                   sales     4.90000  Historical\n",
       "3          42   Buses  2010        EV sales share         EV                 percent     0.39000  Historical\n",
       "4          42   Buses  2010  Oil displacement Mbd         EV  Milion barrels per day     0.00059  Historical"
      ]
     },
     "execution_count": 67,
     "metadata": {},
     "output_type": "execute_result"
    }
   ],
   "source": [
    "#facts_car_sales\n",
    "facts_car_sales = spark.read.parquet(\"output/facts_car_sales\")\n",
    "facts_car_sales.toPandas().head()"
   ]
  },
  {
   "cell_type": "code",
   "execution_count": 68,
   "metadata": {},
   "outputs": [
    {
     "data": {
      "text/html": [
       "<div>\n",
       "<style scoped>\n",
       "    .dataframe tbody tr th:only-of-type {\n",
       "        vertical-align: middle;\n",
       "    }\n",
       "\n",
       "    .dataframe tbody tr th {\n",
       "        vertical-align: top;\n",
       "    }\n",
       "\n",
       "    .dataframe thead th {\n",
       "        text-align: right;\n",
       "    }\n",
       "</style>\n",
       "<table border=\"1\" class=\"dataframe\">\n",
       "  <thead>\n",
       "    <tr style=\"text-align: right;\">\n",
       "      <th></th>\n",
       "      <th>Rank</th>\n",
       "      <th>CCA3</th>\n",
       "      <th>country</th>\n",
       "      <th>capital</th>\n",
       "      <th>continent</th>\n",
       "      <th>2022_Population</th>\n",
       "      <th>2020_Population</th>\n",
       "      <th>2015_Population</th>\n",
       "      <th>2010_Population</th>\n",
       "      <th>2000_Population</th>\n",
       "      <th>1990_Population</th>\n",
       "      <th>1980_Population</th>\n",
       "      <th>1970_Population</th>\n",
       "      <th>area</th>\n",
       "      <th>density</th>\n",
       "      <th>growthRate</th>\n",
       "      <th>worldpercentag</th>\n",
       "      <th>country_id</th>\n",
       "    </tr>\n",
       "  </thead>\n",
       "  <tbody>\n",
       "    <tr>\n",
       "      <th>0</th>\n",
       "      <td>36</td>\n",
       "      <td>AFG</td>\n",
       "      <td>Afghanistan</td>\n",
       "      <td>Kabul</td>\n",
       "      <td>Asia</td>\n",
       "      <td>41128771</td>\n",
       "      <td>38972230</td>\n",
       "      <td>33753499</td>\n",
       "      <td>28189672</td>\n",
       "      <td>19542982</td>\n",
       "      <td>10694796</td>\n",
       "      <td>12486631</td>\n",
       "      <td>10752971</td>\n",
       "      <td>652230</td>\n",
       "      <td>63.058701</td>\n",
       "      <td>1.0257</td>\n",
       "      <td>0.52</td>\n",
       "      <td>1</td>\n",
       "    </tr>\n",
       "    <tr>\n",
       "      <th>1</th>\n",
       "      <td>138</td>\n",
       "      <td>ALB</td>\n",
       "      <td>Albania</td>\n",
       "      <td>Tirana</td>\n",
       "      <td>Europe</td>\n",
       "      <td>2842321</td>\n",
       "      <td>2866849</td>\n",
       "      <td>2882481</td>\n",
       "      <td>2913399</td>\n",
       "      <td>3182021</td>\n",
       "      <td>3295066</td>\n",
       "      <td>2941651</td>\n",
       "      <td>2324731</td>\n",
       "      <td>28748</td>\n",
       "      <td>98.870201</td>\n",
       "      <td>0.9957</td>\n",
       "      <td>0.04</td>\n",
       "      <td>2</td>\n",
       "    </tr>\n",
       "    <tr>\n",
       "      <th>2</th>\n",
       "      <td>34</td>\n",
       "      <td>DZA</td>\n",
       "      <td>Algeria</td>\n",
       "      <td>Algiers</td>\n",
       "      <td>Africa</td>\n",
       "      <td>44903225</td>\n",
       "      <td>43451666</td>\n",
       "      <td>39543154</td>\n",
       "      <td>35856344</td>\n",
       "      <td>30774621</td>\n",
       "      <td>25518074</td>\n",
       "      <td>18739378</td>\n",
       "      <td>13795915</td>\n",
       "      <td>2381741</td>\n",
       "      <td>18.853100</td>\n",
       "      <td>1.0164</td>\n",
       "      <td>0.56</td>\n",
       "      <td>3</td>\n",
       "    </tr>\n",
       "    <tr>\n",
       "      <th>3</th>\n",
       "      <td>213</td>\n",
       "      <td>ASM</td>\n",
       "      <td>American Samoa</td>\n",
       "      <td>Pago Pago</td>\n",
       "      <td>Oceania</td>\n",
       "      <td>44273</td>\n",
       "      <td>46189</td>\n",
       "      <td>51368</td>\n",
       "      <td>54849</td>\n",
       "      <td>58230</td>\n",
       "      <td>47818</td>\n",
       "      <td>32886</td>\n",
       "      <td>27075</td>\n",
       "      <td>199</td>\n",
       "      <td>222.477402</td>\n",
       "      <td>0.9831</td>\n",
       "      <td>0.00</td>\n",
       "      <td>4</td>\n",
       "    </tr>\n",
       "    <tr>\n",
       "      <th>4</th>\n",
       "      <td>203</td>\n",
       "      <td>AND</td>\n",
       "      <td>Andorra</td>\n",
       "      <td>Andorra la Vella</td>\n",
       "      <td>Europe</td>\n",
       "      <td>79824</td>\n",
       "      <td>77700</td>\n",
       "      <td>71746</td>\n",
       "      <td>71519</td>\n",
       "      <td>66097</td>\n",
       "      <td>53569</td>\n",
       "      <td>35611</td>\n",
       "      <td>19860</td>\n",
       "      <td>468</td>\n",
       "      <td>170.564102</td>\n",
       "      <td>1.0100</td>\n",
       "      <td>0.00</td>\n",
       "      <td>5</td>\n",
       "    </tr>\n",
       "  </tbody>\n",
       "</table>\n",
       "</div>"
      ],
      "text/plain": [
       "   Rank CCA3         country           capital continent  2022_Population  2020_Population  2015_Population  2010_Population  2000_Population  1990_Population  \\\n",
       "0    36  AFG     Afghanistan             Kabul      Asia         41128771         38972230         33753499         28189672         19542982         10694796   \n",
       "1   138  ALB         Albania            Tirana    Europe          2842321          2866849          2882481          2913399          3182021          3295066   \n",
       "2    34  DZA         Algeria           Algiers    Africa         44903225         43451666         39543154         35856344         30774621         25518074   \n",
       "3   213  ASM  American Samoa         Pago Pago   Oceania            44273            46189            51368            54849            58230            47818   \n",
       "4   203  AND         Andorra  Andorra la Vella    Europe            79824            77700            71746            71519            66097            53569   \n",
       "\n",
       "   1980_Population  1970_Population     area     density  growthRate  worldpercentag  country_id  \n",
       "0         12486631         10752971   652230   63.058701      1.0257            0.52           1  \n",
       "1          2941651          2324731    28748   98.870201      0.9957            0.04           2  \n",
       "2         18739378         13795915  2381741   18.853100      1.0164            0.56           3  \n",
       "3            32886            27075      199  222.477402      0.9831            0.00           4  \n",
       "4            35611            19860      468  170.564102      1.0100            0.00           5  "
      ]
     },
     "execution_count": 68,
     "metadata": {},
     "output_type": "execute_result"
    }
   ],
   "source": [
    "#facts_population\n",
    "facts_population = spark.read.parquet(\"output/facts_population\")\n",
    "facts_population.toPandas().head()"
   ]
  },
  {
   "cell_type": "code",
   "execution_count": null,
   "metadata": {},
   "outputs": [],
   "source": [
    "#facts_temperature --> Out of memory\n",
    "#facts_temperature= spark.read.parquet(\"output/facts_temperature\")\n",
    "#facts_temperature.toPandas().head()"
   ]
  },
  {
   "cell_type": "code",
   "execution_count": 69,
   "metadata": {},
   "outputs": [],
   "source": [
    "facts_population.createOrReplaceTempView(\"facts_population_temp_table\")\n",
    "facts_car_sales.createOrReplaceTempView(\"facts_car_sales_temp_table\")\n"
   ]
  },
  {
   "cell_type": "code",
   "execution_count": 70,
   "metadata": {},
   "outputs": [
    {
     "name": "stdout",
     "output_type": "stream",
     "text": [
      "+--------+----------+\n",
      "| country|growthRate|\n",
      "+--------+----------+\n",
      "| Moldova|    1.0691|\n",
      "|  Poland|    1.0404|\n",
      "|   Niger|    1.0378|\n",
      "|   Syria|    1.0376|\n",
      "|Slovakia|    1.0359|\n",
      "+--------+----------+\n",
      "only showing top 5 rows\n",
      "\n"
     ]
    }
   ],
   "source": [
    "spark.sql(\"SELECT country,growthRate FROM facts_population_temp_table WHERE growthRate>0 ORDER BY growthRate DESC\").show(5)"
   ]
  },
  {
   "cell_type": "code",
   "execution_count": 71,
   "metadata": {},
   "outputs": [
    {
     "name": "stdout",
     "output_type": "stream",
     "text": [
      "+--------------+----------+\n",
      "|       country|growthRate|\n",
      "+--------------+----------+\n",
      "|       Ukraine|     0.912|\n",
      "|       Lebanon|    0.9816|\n",
      "|American Samoa|    0.9831|\n",
      "|      Bulgaria|    0.9849|\n",
      "|     Lithuania|    0.9869|\n",
      "+--------------+----------+\n",
      "only showing top 5 rows\n",
      "\n"
     ]
    }
   ],
   "source": [
    "spark.sql(\"SELECT country,growthRate FROM facts_population_temp_table WHERE growthRate>0 ORDER BY growthRate ASC\").show(5)"
   ]
  },
  {
   "cell_type": "code",
   "execution_count": 72,
   "metadata": {},
   "outputs": [
    {
     "name": "stdout",
     "output_type": "stream",
     "text": [
      "+----------+------+----+--------------------+----------+--------------------+------+----------+\n",
      "|country_id|  mode|year|           parameter|powertrain|                unit| value|  category|\n",
      "+----------+------+----+--------------------+----------+--------------------+------+----------+\n",
      "|        42| Buses|2010|            EV sales|       BEV|               sales|1900.0|Historical|\n",
      "|        42| Buses|2010|            EV stock|       BEV|               stock|1900.0|Historical|\n",
      "|        42|Trucks|2010|            EV sales|       BEV|               sales|   4.9|Historical|\n",
      "|        42| Buses|2010|      EV sales share|        EV|             percent|  0.39|Historical|\n",
      "|        42| Buses|2010|Oil displacement Mbd|        EV|Milion barrels pe...|5.9E-4|Historical|\n",
      "+----------+------+----+--------------------+----------+--------------------+------+----------+\n",
      "only showing top 5 rows\n",
      "\n"
     ]
    }
   ],
   "source": [
    "spark.sql(\"SELECT * FROM facts_car_sales_temp_table \").show(5)"
   ]
  },
  {
   "cell_type": "code",
   "execution_count": 73,
   "metadata": {},
   "outputs": [
    {
     "name": "stdout",
     "output_type": "stream",
     "text": [
      "+----------+----+----+---------+----------+-----+------+----------+\n",
      "|country_id|mode|year|parameter|powertrain| unit| value|  category|\n",
      "+----------+----+----+---------+----------+-----+------+----------+\n",
      "|        42|Cars|2010| EV sales|       BEV|sales|1100.0|Historical|\n",
      "|        42|Cars|2010| EV sales|      PHEV|sales| 340.0|Historical|\n",
      "|        42|Cars|2011| EV sales|      PHEV|sales| 320.0|Historical|\n",
      "|        42|Cars|2011| EV sales|       BEV|sales|4800.0|Historical|\n",
      "|        42|Cars|2012| EV sales|       BEV|sales|9600.0|Historical|\n",
      "+----------+----+----+---------+----------+-----+------+----------+\n",
      "only showing top 5 rows\n",
      "\n"
     ]
    }
   ],
   "source": [
    "spark.sql(\"SELECT * FROM facts_car_sales_temp_table WHERE mode = 'Cars' AND parameter like 'EV sales' \").show(5)"
   ]
  },
  {
   "cell_type": "code",
   "execution_count": 74,
   "metadata": {},
   "outputs": [
    {
     "name": "stdout",
     "output_type": "stream",
     "text": [
      "+-------+---------+\n",
      "|country|    value|\n",
      "+-------+---------+\n",
      "|  China|    1.0E7|\n",
      "|  China|9700000.0|\n",
      "|  China|7500000.0|\n",
      "|  China|7500000.0|\n",
      "|  India|4400000.0|\n",
      "+-------+---------+\n",
      "only showing top 5 rows\n",
      "\n"
     ]
    }
   ],
   "source": [
    "spark.sql(\"SELECT pop.country,value FROM facts_car_sales_temp_table cars JOIN facts_population_temp_table pop ON cars.country_id=pop.country_id WHERE cars.mode = 'Cars' AND parameter = 'EV sales' ORDER BY value DESC\").show(5)"
   ]
  },
  {
   "cell_type": "code",
   "execution_count": 81,
   "metadata": {},
   "outputs": [
    {
     "name": "stdout",
     "output_type": "stream",
     "text": [
      "+---------+-------+\n",
      "|    value|country|\n",
      "+---------+-------+\n",
      "|    1.0E7|  China|\n",
      "|9700000.0|  China|\n",
      "|7500000.0|  China|\n",
      "|7500000.0|  China|\n",
      "|4400000.0|  India|\n",
      "+---------+-------+\n",
      "only showing top 5 rows\n",
      "\n"
     ]
    }
   ],
   "source": [
    "spark.sql(\"SELECT value,country FROM facts_car_sales_temp_table cars JOIN facts_population_temp_table pop ON cars.country_id=pop.country_id WHERE cars.mode = 'Cars' AND parameter = 'EV sales' ORDER BY value DESC\").show(5)"
   ]
  },
  {
   "cell_type": "markdown",
   "metadata": {},
   "source": [
    "#### 4.3 Data dictionary \n",
    "Create a data dictionary for your data model. For each field, provide a brief description of what the data is and where it came from. You can include the data dictionary in the notebook or in a separate file."
   ]
  },
  {
   "cell_type": "markdown",
   "metadata": {},
   "source": [
    "Data dictionary of the Global Temperature dataset\n",
    " |-- dt: timestamp  --> datetime it shows the date of the observation\n",
    " |-- AverageTemperature: double  --> The average temperature of the observation\n",
    " |-- AverageTemperatureUncertainty: double  --> The average uncertainty of the observation\n",
    " |-- City: string --> The city where the temperature observation was taken\n",
    " |-- Country: string --> The Country where the temperature observation was taken\n",
    " |-- Latitude: string --> The Latitude where the temperature observation was taken\n",
    " |-- Longitude: string --> The Latitude where the temperature observation was taken"
   ]
  },
  {
   "cell_type": "markdown",
   "metadata": {},
   "source": [
    "Data dictionary of the Air Quality dataset\n",
    " |-- city: string --> city where the air quality have been measured\n",
    " |-- coordinates: string --> coordinates of the air quality station\n",
    " |-- country: string --> country of the place \n",
    " |-- country_name_en: string --> country abbreviature\n",
    " |-- location: string --> location of the air quality station\n",
    " |-- measurements_lastupdated: string --> date of the measurements\n",
    " |-- measurements_parameter: string --> parameter object of the measurements\n",
    " |-- measurements_sourcename: string --> sourcename of the measurements \n",
    " |-- measurements_unit: string --> unit of the measurements \n",
    " |-- measurements_value: string --> value obtain with the measurements "
   ]
  },
  {
   "cell_type": "markdown",
   "metadata": {},
   "source": [
    "Data dictionary of the Electric Vehicle Sellings dataset\n",
    " |-- region: string --> continent where the electric vehicle has been sold\n",
    " |-- category: string --> category of the selling\n",
    " |-- parameter: string --> type of selling (EV stock/EV Sales/...)\n",
    " |-- mode: string --> type of vehicle (Car,Bus,etc...)\n",
    " |-- powertrain: string --> type of powertrain of the vehicle\n",
    " |-- year: string --> year of the selling\n",
    " |-- unit: string --> unit used (sales/stock/percent)\n",
    " |-- value: string --> number of units sold"
   ]
  },
  {
   "cell_type": "markdown",
   "metadata": {},
   "source": [
    "Data dictionary of the World Population Dataset\n",
    " |-- Rank: Rank by population\n",
    " |--CCA3: 3 digit Country/Territories code\n",
    " |--Country: Name of the Country/Territories\n",
    " |-- Capital: Name of the Capital\n",
    " |-- Continent: Name of the Continent\n",
    " |-- 2022 Population: Population of the Country/Territories in the year 2022\n",
    " |-- 2020 Population: Population of the Country/Territories in the year 2020\n",
    " |-- 2015 Population: Population of the Country/Territories in the year 2015\n",
    " |-- 2010 Population: Population of the Country/Territories in the year 2010\n",
    " |-- 2000 Population: Population of the Country/Territories in the year 2000\n",
    " |-- 1990 Population: Population of the Country/Territories in the year 1990\n",
    " |-- 1980 Population: Population of the Country/Territories in the year 1980\n",
    " |-- 1970 Population: Population of the Country/Territories in the year 1970\n",
    " |-- Area (km²): Area size of the Country/Territories in square kilometer\n",
    " |-- Density (per km²): Population density per square kilometer\n",
    " |-- Growth Rate: Population growth rate by Country/Territories\n",
    " |-- World Population Percentage: The population percentage by each Country/Territories"
   ]
  },
  {
   "cell_type": "markdown",
   "metadata": {},
   "source": [
    "#### Step 5: Complete Project Write Up\n",
    "* Clearly state the rationale for the choice of tools and technologies for the project.\n",
    "* Propose how often the data should be updated and why.\n",
    "* Write a description of how you would approach the problem differently under the following scenarios:\n",
    " * The data was increased by 100x.\n",
    " * The data populates a dashboard that must be updated on a daily basis by 7am every day.\n",
    " * The database needed to be accessed by 100+ people."
   ]
  },
  {
   "cell_type": "markdown",
   "metadata": {},
   "source": [
    "#####  Rationale for the choice of tools and technologies: \n",
    "This project makes use of several Big Data techniques and tools such as:\n",
    "* Pandas was used to explore the datasets since it has an easy and fast API\n",
    "* Matplotlib as an easy way to visualize graphically and deduce insights from data\n",
    "* Apache Spark as the most popular framework for distributed data processing for manipulating data at scale, in-memory data caching, and reuse across computations with high speed, ease of use and rich API"
   ]
  },
  {
   "cell_type": "markdown",
   "metadata": {},
   "source": [
    "##### How often the data should be updated and why: \n",
    "The update of the data should be done monthly for the Car Sales, Population as it would be enough for the quality of data \n",
    "and weekly for the Temperature and Air Quality datasets, as here there is more quantity of data and it's better to have more little updates with less risk of accumulating errors and also to ease the adaptability to changes in requirements or datasets features"
   ]
  },
  {
   "cell_type": "markdown",
   "metadata": {},
   "source": [
    "##### Description of different approaches: \n",
    " * The data was increased by 100x:\n",
    " We would use different approach for data storage such as Amazon EMR, Apache Cassandra, Amazon Athena or AWS Redshift and adapting the resources or even using a serverless Redshift so that we could forget about managing those resources\n",
    " * The data populates a dashboard that must be updated on a daily basis by 7am every day:\n",
    " In this case we could use Apache Airflow to manage the ETL, set specific tasks to be executed periodically including quality checks either on the data as well as on the overall process and setting alerts and notifications.\n",
    " Also we could use AWS Glue with crawlers to manage the ETL and perform periodical tasks.\n",
    " * The database needed to be accessed by 100+ people:\n",
    " For this purpose I would use AWS Redshift and adjust resources depending on the type of accesses (if people has to access simultaneously or not)"
   ]
  }
 ],
 "metadata": {
  "kernelspec": {
   "display_name": "Python 3",
   "language": "python",
   "name": "python3"
  },
  "language_info": {
   "codemirror_mode": {
    "name": "ipython",
    "version": 3
   },
   "file_extension": ".py",
   "mimetype": "text/x-python",
   "name": "python",
   "nbconvert_exporter": "python",
   "pygments_lexer": "ipython3",
   "version": "3.6.3"
  }
 },
 "nbformat": 4,
 "nbformat_minor": 4
}
